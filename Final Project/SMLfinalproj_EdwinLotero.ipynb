{
 "cells": [
  {
   "cell_type": "markdown",
   "metadata": {},
   "source": [
    "Title: Final Project for Stats and Machine Learning\\\n",
    "Date: Jan. 3, 2021\\\n",
    "Author: Edwin Lotero\\\n",
    "Summary: Classification Model using Random Forest Algorithm"
   ]
  },
  {
   "cell_type": "markdown",
   "metadata": {},
   "source": [
    "## Introduction\n",
    "\n",
    "This project will look at various factors that may be related to use of mental health services among the population. While causative factors require more complex analysis and study than I will conduct here, statistical models may be employed for identifying individuals in society that may be in need of mental health services  or may require in the future. This report will construct a predictive model for classifying these individuals by their various characteristics using a random forest classification scheme.\n",
    "\n",
    "## Data Description\n",
    "The data I analyzed in this report, file name PUF2019_100920, was generated from the results of the 2019 National Survey on Drug Use and Health (NSDUH) which was administered by the Substance Abuse and Mental Health Services Administration (SAMHSA). It is public access and available through the agency's public database website, https://www.datafiles.samhsa.gov/. The purpose of the survey is to college factors relating to the prevalence of substance use and mental health issues among the United States population, and is the 39th in its series. The data set is made up of 2,741 variables and 56,136 observations which include fields such as youth experiences, mental health and substance use history, demographic identifiers, and educational attainment. Each observation is unique.\n",
    "\n",
    "## Data Source\n",
    "The data source can be downloaded here for processing: https://www.datafiles.samhsa.gov/dataset/national-survey-drug-use-and-health-2019-nsduh-2019-ds0001"
   ]
  },
  {
   "cell_type": "code",
   "execution_count": 25,
   "metadata": {},
   "outputs": [],
   "source": [
    "# load libraries\n",
    "import pandas as pd\n",
    "import numpy as np\n",
    "import matplotlib.pyplot as plt\n",
    "from sklearn.model_selection import train_test_split\n",
    "from sklearn.ensemble import RandomForestClassifier\n",
    "from sklearn.preprocessing import OneHotEncoder\n",
    "from sklearn.compose import make_column_transformer\n",
    "from sklearn.pipeline import make_pipeline\n",
    "from sklearn.metrics import accuracy_score, confusion_matrix, precision_score, recall_score, roc_auc_score, roc_curve, f1_score"
   ]
  },
  {
   "cell_type": "code",
   "execution_count": 26,
   "metadata": {},
   "outputs": [
    {
     "name": "stderr",
     "output_type": "stream",
     "text": [
      "C:\\Users\\elote\\anaconda3\\lib\\site-packages\\IPython\\core\\interactiveshell.py:3165: DtypeWarning: Columns (2576) have mixed types.Specify dtype option on import or set low_memory=False.\n",
      "  has_raised = await self.run_ast_nodes(code_ast.body, cell_name,\n"
     ]
    }
   ],
   "source": [
    "# load data set\n",
    "raw_data = pd.read_csv('PUF2019_100920.csv')"
   ]
  },
  {
   "cell_type": "markdown",
   "metadata": {},
   "source": [
    "## Preprocessing"
   ]
  },
  {
   "cell_type": "markdown",
   "metadata": {},
   "source": [
    "Being a large data set with a vast number of variables, it was necessary to narrow down to several of interest to the creation of a classification model. These are listed and defined below, and their values are taken from the data set codebook:"
   ]
  },
  {
   "cell_type": "markdown",
   "metadata": {},
   "source": [
    "### Target variable\n",
    "The outcome variable selected is AMHTXRC3: Received any mental health treatment within the past year\n",
    "  * 1 = Yes\n",
    "  * 2 = No \n",
    "\n",
    "### Predictor variables\n",
    "The features selected are:\n",
    "* illyr: ANY ILLICIT DRUG - PAST YEAR USE\n",
    "  * 0 = Did not use in past year\n",
    "  * 1 = Used in past year\n",
    "* bngdrkmon: BINGE ALCOHOL USE PAST 30 DAYS\n",
    "  * 0 = Never/No \"Binge\" alc use\n",
    "  * 1 = \"Binge\" alcohol use\n",
    "* hvydrkmon: HEAVY ALCOHOL USE PAST 30 DAYS\n",
    "  * 0 = Never/No heavy alc use\n",
    "  * 1 = Heavy alcohol use\n",
    "* snysell: SOLD ILLEGAL DRUGS\n",
    "  * 1 = 0 times\n",
    "  * 2 = 1 or 2 times\n",
    "  * 3 = 3 to 5 times\n",
    "  * 4 = 6 to 9 times\n",
    "  * 5 = 10 or more times\n",
    "* snrlgsvc: AST 12 MOS, HOW MANY RELIG. SERVICES\n",
    "  * 1 = 0 times\n",
    "  * 2 = 1 to 2 times\n",
    "  * 3 = 3 to 5 times\n",
    "  * 4 = 6 to 24 times\n",
    "  * 5 = 25 to 52 times\n",
    "  * 6 = More than 52 times\n",
    "* snrlgimp: MY RELIGIOUS BELIEFS ARE VERY IMPORTANT\n",
    "  * 1 = Strongly Disagree\n",
    "  * 2 = Disagree\n",
    "  * 3 = Agree\n",
    "  * 4 = Strongly Agree\n",
    "* sexident: SEXUAL IDENTITY\n",
    "  * 1 = Heterosexual, that is, straight.\n",
    "  * 2 = Lesbian or Gay\n",
    "  * 3 = Bisexual\n",
    "* irsex: GENDER\n",
    "  * 1 = Male\n",
    "  * 2 = Female\n",
    "* eduhighcat: EDUCATION CATEGORIES\n",
    "  * 1 = Less high school\n",
    "  * 2 = High school grad\n",
    "  * 3 = Some coll/Assoc Dg\n",
    "  * 4 = College graduate \n",
    "  * 5 = 12 to 17 year olds\n",
    "* HEALTH2: OVERALL HEALTH\n",
    "  * 1 = Excellent\n",
    "  * 2 = Very Good\n",
    "  * 3 = Good\n",
    "  * 4 = Fair/Poor\n",
    "* NEWRACE2: RACE/HISPANICITY\n",
    "  * 1 = NonHisp White\n",
    "  * 2 = NonHisp Black/Afr Am\n",
    "  * 3 = NonHisp Native Am/AK Native\n",
    "  * 4 = NonHisp Native HI/Other Pac Isl\n",
    "  * 5 = NonHisp Asian \n",
    "  * 6 = NonHisp more than one race\n",
    "  * 6 = NonHisp more than one race\n",
    "* CATAG3: AGE CATEGORY\n",
    "  * 1 = 12-17 Years Old\n",
    "  * 2 = 18-25 Years Old.\n",
    "  * 3 = 26-34 Years Old\n",
    "  * 4 = 35-49 Years Old\n",
    "  * 5 = 50 or Older\n",
    "* wrkdpstyr: PAST 12 MONTHS, WORKED AT ANY JOB\n",
    "  * 1 = Yes\n",
    "  * 2 = No\n",
    "* irwrkstat: EMPLOYMENT STATUS\n",
    "  * 1 = Employed full time \n",
    "  * 2 = Employed part time\n",
    "  * 3 = Unemployed\n",
    "* income: TOTAL FAMILY INCOME\n",
    "  * 1 = Less than $20,000\n",
    "  * 2 = $20,000 - $49,999\n",
    "  * 3 = $50,000 - $74,999\n",
    "  * 4 = $75,000 or More\n",
    "* POVERTY3: POVERTY LVL (% OF US CENSUS POVERTY THRESHOLD)\n",
    "  * 1 = Living in Poverty\n",
    "  * 2 = Income Up to 2X Fed Pov Thresh\n",
    "  * 3 = Income More Than 2X Fed Pov Thresh\n",
    "* medicare: COVERED BY MEDICARE\n",
    "  * 1 = Yes\n",
    "  * 2 = No\n",
    "* caidchip: COVERED BY MEDICAID/CHIP\n",
    "  * 1 = Yes\n",
    "  * 2 = No\n",
    "* champus: COV BY TRICARE, CHAMPUS, CHAMPVA, VA, MILITARY\n",
    "  * 1 = Yes\n",
    "  * 2 = No"
   ]
  },
  {
   "cell_type": "markdown",
   "metadata": {},
   "source": [
    "Subset the raw data to narrow down to predictors and outcome variable:"
   ]
  },
  {
   "cell_type": "code",
   "execution_count": 27,
   "metadata": {},
   "outputs": [],
   "source": [
    "# select predictor list\n",
    "predictor_list = ['AMHTXRC3', 'illyr', 'bngdrkmon', 'hvydrkmon', 'snysell', 'snrlgsvc', 'snrlgimp', 'sexident', 'irsex', 'eduhighcat', 'HEALTH2', \n",
    "'NEWRACE2', 'CATAG3', 'wrkdpstyr', 'irwrkstat', 'income', 'POVERTY3', 'medicare', 'caidchip', 'champus']\n",
    "\n",
    "df1 = raw_data[predictor_list]"
   ]
  },
  {
   "cell_type": "markdown",
   "metadata": {},
   "source": [
    "Here we do an initial inspection of the working dataframe to notice its structure:"
   ]
  },
  {
   "cell_type": "code",
   "execution_count": 28,
   "metadata": {},
   "outputs": [
    {
     "name": "stdout",
     "output_type": "stream",
     "text": [
      "<class 'pandas.core.frame.DataFrame'>\n",
      "RangeIndex: 56136 entries, 0 to 56135\n",
      "Data columns (total 20 columns):\n",
      " #   Column      Non-Null Count  Dtype  \n",
      "---  ------      --------------  -----  \n",
      " 0   AMHTXRC3    42451 non-null  float64\n",
      " 1   illyr       56136 non-null  int64  \n",
      " 2   bngdrkmon   56136 non-null  int64  \n",
      " 3   hvydrkmon   56136 non-null  int64  \n",
      " 4   snysell     56136 non-null  int64  \n",
      " 5   snrlgsvc    56136 non-null  int64  \n",
      " 6   snrlgimp    56136 non-null  int64  \n",
      " 7   sexident    56136 non-null  int64  \n",
      " 8   irsex       56136 non-null  int64  \n",
      " 9   eduhighcat  56136 non-null  int64  \n",
      " 10  HEALTH2     56127 non-null  float64\n",
      " 11  NEWRACE2    56136 non-null  int64  \n",
      " 12  CATAG3      56136 non-null  int64  \n",
      " 13  wrkdpstyr   56136 non-null  int64  \n",
      " 14  irwrkstat   56136 non-null  int64  \n",
      " 15  income      56136 non-null  int64  \n",
      " 16  POVERTY3    55609 non-null  float64\n",
      " 17  medicare    56136 non-null  int64  \n",
      " 18  caidchip    56136 non-null  int64  \n",
      " 19  champus     56136 non-null  int64  \n",
      "dtypes: float64(3), int64(17)\n",
      "memory usage: 8.6 MB\n"
     ]
    }
   ],
   "source": [
    "df1.info()"
   ]
  },
  {
   "cell_type": "markdown",
   "metadata": {},
   "source": [
    "Some of the features have multiple levels of category according to the codebook. This includes levels that are not useful to the analysis. The following is one example, followed by the dropping of those levels in the various features:"
   ]
  },
  {
   "cell_type": "code",
   "execution_count": 29,
   "metadata": {},
   "outputs": [
    {
     "data": {
      "text/plain": [
       "1     41697\n",
       "99    13397\n",
       "2       392\n",
       "5       270\n",
       "97      119\n",
       "3       117\n",
       "94       63\n",
       "4        62\n",
       "98       11\n",
       "85        8\n",
       "Name: snysell, dtype: int64"
      ]
     },
     "execution_count": 29,
     "metadata": {},
     "output_type": "execute_result"
    }
   ],
   "source": [
    "# check distribution of bad values\n",
    "df1['snysell'].value_counts()"
   ]
  },
  {
   "cell_type": "code",
   "execution_count": 30,
   "metadata": {},
   "outputs": [],
   "source": [
    "# drop bad data from columns\n",
    "df1 = df1[df1['snysell'].isin([1, 2, 3, 4, 5])]\n",
    "df1 = df1[df1['snrlgsvc'].isin([1, 2, 3, 4, 5, 6])]\n",
    "df1 = df1[df1['snrlgimp'].isin([1, 2, 3, 4])]\n",
    "df1 = df1[df1['sexident'].isin([1, 2, 3])]\n",
    "df1 = df1[df1['HEALTH2'].isin([1, 2, 3, 4])]\n",
    "df1 = df1[df1['irwrkstat'].isin([1, 2, 3])]\n",
    "df1 = df1[df1['medicare'].isin([1, 2])]\n",
    "df1 = df1[df1['caidchip'].isin([1, 2])]\n",
    "df1 = df1[df1['champus'].isin([1, 2])]"
   ]
  },
  {
   "cell_type": "markdown",
   "metadata": {},
   "source": [
    "We can do another inspection here. It is noticeable that the number of rows has decreased since we have removed bad data, but it also seems like we have null values. We will attend to this next."
   ]
  },
  {
   "cell_type": "code",
   "execution_count": 31,
   "metadata": {},
   "outputs": [
    {
     "name": "stdout",
     "output_type": "stream",
     "text": [
      "<class 'pandas.core.frame.DataFrame'>\n",
      "Int64Index: 30229 entries, 0 to 56132\n",
      "Data columns (total 20 columns):\n",
      " #   Column      Non-Null Count  Dtype  \n",
      "---  ------      --------------  -----  \n",
      " 0   AMHTXRC3    30172 non-null  float64\n",
      " 1   illyr       30229 non-null  int64  \n",
      " 2   bngdrkmon   30229 non-null  int64  \n",
      " 3   hvydrkmon   30229 non-null  int64  \n",
      " 4   snysell     30229 non-null  int64  \n",
      " 5   snrlgsvc    30229 non-null  int64  \n",
      " 6   snrlgimp    30229 non-null  int64  \n",
      " 7   sexident    30229 non-null  int64  \n",
      " 8   irsex       30229 non-null  int64  \n",
      " 9   eduhighcat  30229 non-null  int64  \n",
      " 10  HEALTH2     30229 non-null  float64\n",
      " 11  NEWRACE2    30229 non-null  int64  \n",
      " 12  CATAG3      30229 non-null  int64  \n",
      " 13  wrkdpstyr   30229 non-null  int64  \n",
      " 14  irwrkstat   30229 non-null  int64  \n",
      " 15  income      30229 non-null  int64  \n",
      " 16  POVERTY3    29992 non-null  float64\n",
      " 17  medicare    30229 non-null  int64  \n",
      " 18  caidchip    30229 non-null  int64  \n",
      " 19  champus     30229 non-null  int64  \n",
      "dtypes: float64(3), int64(17)\n",
      "memory usage: 4.8 MB\n"
     ]
    }
   ],
   "source": [
    "df1.info()"
   ]
  },
  {
   "cell_type": "markdown",
   "metadata": {},
   "source": [
    "### Check for null values"
   ]
  },
  {
   "cell_type": "markdown",
   "metadata": {},
   "source": [
    "Two columns contain null values, or NAs, in the data: AMHTXRC3 and POVERTY3. As they represent a small percentage of the total, we will drop these from the data and observe that the NAs are now gone:"
   ]
  },
  {
   "cell_type": "code",
   "execution_count": 32,
   "metadata": {},
   "outputs": [
    {
     "data": {
      "text/html": [
       "<div>\n",
       "<style scoped>\n",
       "    .dataframe tbody tr th:only-of-type {\n",
       "        vertical-align: middle;\n",
       "    }\n",
       "\n",
       "    .dataframe tbody tr th {\n",
       "        vertical-align: top;\n",
       "    }\n",
       "\n",
       "    .dataframe thead th {\n",
       "        text-align: right;\n",
       "    }\n",
       "</style>\n",
       "<table border=\"1\" class=\"dataframe\">\n",
       "  <thead>\n",
       "    <tr style=\"text-align: right;\">\n",
       "      <th></th>\n",
       "      <th>0</th>\n",
       "    </tr>\n",
       "  </thead>\n",
       "  <tbody>\n",
       "    <tr>\n",
       "      <th>AMHTXRC3</th>\n",
       "      <td>57</td>\n",
       "    </tr>\n",
       "    <tr>\n",
       "      <th>illyr</th>\n",
       "      <td>0</td>\n",
       "    </tr>\n",
       "    <tr>\n",
       "      <th>bngdrkmon</th>\n",
       "      <td>0</td>\n",
       "    </tr>\n",
       "    <tr>\n",
       "      <th>hvydrkmon</th>\n",
       "      <td>0</td>\n",
       "    </tr>\n",
       "    <tr>\n",
       "      <th>snysell</th>\n",
       "      <td>0</td>\n",
       "    </tr>\n",
       "    <tr>\n",
       "      <th>snrlgsvc</th>\n",
       "      <td>0</td>\n",
       "    </tr>\n",
       "    <tr>\n",
       "      <th>snrlgimp</th>\n",
       "      <td>0</td>\n",
       "    </tr>\n",
       "    <tr>\n",
       "      <th>sexident</th>\n",
       "      <td>0</td>\n",
       "    </tr>\n",
       "    <tr>\n",
       "      <th>irsex</th>\n",
       "      <td>0</td>\n",
       "    </tr>\n",
       "    <tr>\n",
       "      <th>eduhighcat</th>\n",
       "      <td>0</td>\n",
       "    </tr>\n",
       "    <tr>\n",
       "      <th>HEALTH2</th>\n",
       "      <td>0</td>\n",
       "    </tr>\n",
       "    <tr>\n",
       "      <th>NEWRACE2</th>\n",
       "      <td>0</td>\n",
       "    </tr>\n",
       "    <tr>\n",
       "      <th>CATAG3</th>\n",
       "      <td>0</td>\n",
       "    </tr>\n",
       "    <tr>\n",
       "      <th>wrkdpstyr</th>\n",
       "      <td>0</td>\n",
       "    </tr>\n",
       "    <tr>\n",
       "      <th>irwrkstat</th>\n",
       "      <td>0</td>\n",
       "    </tr>\n",
       "    <tr>\n",
       "      <th>income</th>\n",
       "      <td>0</td>\n",
       "    </tr>\n",
       "    <tr>\n",
       "      <th>POVERTY3</th>\n",
       "      <td>237</td>\n",
       "    </tr>\n",
       "    <tr>\n",
       "      <th>medicare</th>\n",
       "      <td>0</td>\n",
       "    </tr>\n",
       "    <tr>\n",
       "      <th>caidchip</th>\n",
       "      <td>0</td>\n",
       "    </tr>\n",
       "    <tr>\n",
       "      <th>champus</th>\n",
       "      <td>0</td>\n",
       "    </tr>\n",
       "  </tbody>\n",
       "</table>\n",
       "</div>"
      ],
      "text/plain": [
       "              0\n",
       "AMHTXRC3     57\n",
       "illyr         0\n",
       "bngdrkmon     0\n",
       "hvydrkmon     0\n",
       "snysell       0\n",
       "snrlgsvc      0\n",
       "snrlgimp      0\n",
       "sexident      0\n",
       "irsex         0\n",
       "eduhighcat    0\n",
       "HEALTH2       0\n",
       "NEWRACE2      0\n",
       "CATAG3        0\n",
       "wrkdpstyr     0\n",
       "irwrkstat     0\n",
       "income        0\n",
       "POVERTY3    237\n",
       "medicare      0\n",
       "caidchip      0\n",
       "champus       0"
      ]
     },
     "execution_count": 32,
     "metadata": {},
     "output_type": "execute_result"
    }
   ],
   "source": [
    "# check for null values\n",
    "pd.DataFrame(df1.isnull().sum())"
   ]
  },
  {
   "cell_type": "code",
   "execution_count": 33,
   "metadata": {},
   "outputs": [],
   "source": [
    "# drop null values\n",
    "df1 = df1.dropna()"
   ]
  },
  {
   "cell_type": "code",
   "execution_count": 34,
   "metadata": {},
   "outputs": [
    {
     "data": {
      "text/html": [
       "<div>\n",
       "<style scoped>\n",
       "    .dataframe tbody tr th:only-of-type {\n",
       "        vertical-align: middle;\n",
       "    }\n",
       "\n",
       "    .dataframe tbody tr th {\n",
       "        vertical-align: top;\n",
       "    }\n",
       "\n",
       "    .dataframe thead th {\n",
       "        text-align: right;\n",
       "    }\n",
       "</style>\n",
       "<table border=\"1\" class=\"dataframe\">\n",
       "  <thead>\n",
       "    <tr style=\"text-align: right;\">\n",
       "      <th></th>\n",
       "      <th>0</th>\n",
       "    </tr>\n",
       "  </thead>\n",
       "  <tbody>\n",
       "    <tr>\n",
       "      <th>AMHTXRC3</th>\n",
       "      <td>0</td>\n",
       "    </tr>\n",
       "    <tr>\n",
       "      <th>illyr</th>\n",
       "      <td>0</td>\n",
       "    </tr>\n",
       "    <tr>\n",
       "      <th>bngdrkmon</th>\n",
       "      <td>0</td>\n",
       "    </tr>\n",
       "    <tr>\n",
       "      <th>hvydrkmon</th>\n",
       "      <td>0</td>\n",
       "    </tr>\n",
       "    <tr>\n",
       "      <th>snysell</th>\n",
       "      <td>0</td>\n",
       "    </tr>\n",
       "    <tr>\n",
       "      <th>snrlgsvc</th>\n",
       "      <td>0</td>\n",
       "    </tr>\n",
       "    <tr>\n",
       "      <th>snrlgimp</th>\n",
       "      <td>0</td>\n",
       "    </tr>\n",
       "    <tr>\n",
       "      <th>sexident</th>\n",
       "      <td>0</td>\n",
       "    </tr>\n",
       "    <tr>\n",
       "      <th>irsex</th>\n",
       "      <td>0</td>\n",
       "    </tr>\n",
       "    <tr>\n",
       "      <th>eduhighcat</th>\n",
       "      <td>0</td>\n",
       "    </tr>\n",
       "    <tr>\n",
       "      <th>HEALTH2</th>\n",
       "      <td>0</td>\n",
       "    </tr>\n",
       "    <tr>\n",
       "      <th>NEWRACE2</th>\n",
       "      <td>0</td>\n",
       "    </tr>\n",
       "    <tr>\n",
       "      <th>CATAG3</th>\n",
       "      <td>0</td>\n",
       "    </tr>\n",
       "    <tr>\n",
       "      <th>wrkdpstyr</th>\n",
       "      <td>0</td>\n",
       "    </tr>\n",
       "    <tr>\n",
       "      <th>irwrkstat</th>\n",
       "      <td>0</td>\n",
       "    </tr>\n",
       "    <tr>\n",
       "      <th>income</th>\n",
       "      <td>0</td>\n",
       "    </tr>\n",
       "    <tr>\n",
       "      <th>POVERTY3</th>\n",
       "      <td>0</td>\n",
       "    </tr>\n",
       "    <tr>\n",
       "      <th>medicare</th>\n",
       "      <td>0</td>\n",
       "    </tr>\n",
       "    <tr>\n",
       "      <th>caidchip</th>\n",
       "      <td>0</td>\n",
       "    </tr>\n",
       "    <tr>\n",
       "      <th>champus</th>\n",
       "      <td>0</td>\n",
       "    </tr>\n",
       "  </tbody>\n",
       "</table>\n",
       "</div>"
      ],
      "text/plain": [
       "            0\n",
       "AMHTXRC3    0\n",
       "illyr       0\n",
       "bngdrkmon   0\n",
       "hvydrkmon   0\n",
       "snysell     0\n",
       "snrlgsvc    0\n",
       "snrlgimp    0\n",
       "sexident    0\n",
       "irsex       0\n",
       "eduhighcat  0\n",
       "HEALTH2     0\n",
       "NEWRACE2    0\n",
       "CATAG3      0\n",
       "wrkdpstyr   0\n",
       "irwrkstat   0\n",
       "income      0\n",
       "POVERTY3    0\n",
       "medicare    0\n",
       "caidchip    0\n",
       "champus     0"
      ]
     },
     "execution_count": 34,
     "metadata": {},
     "output_type": "execute_result"
    }
   ],
   "source": [
    "pd.DataFrame(df1.isnull().sum())"
   ]
  },
  {
   "cell_type": "markdown",
   "metadata": {},
   "source": [
    "## Build the model\n",
    "\n",
    "### Decision Trees\n",
    "Decision trees work similarly to how its namesake is structured. We begin with one main branch and then split into sub-branches at each feature in the decision tree. \n",
    "\n",
    "### Random Forest Classifier\n",
    "The random forest classifier operates with an ensemble of decision trees, each sampling a number of features present in a set of predictor variables. Each decision tree then calculates a prediction for the outcome variable and the prediction with the greatest number becomes the model's main prediction. "
   ]
  },
  {
   "cell_type": "markdown",
   "metadata": {},
   "source": [
    "The random forest classifier must take the dependent variable as a binary outcome, 0's and 1's; hence, we will recode the values appropriately. Then we prepare the data set for our model by splitting it into a features component and outcome component (X and y). "
   ]
  },
  {
   "cell_type": "code",
   "execution_count": 35,
   "metadata": {},
   "outputs": [],
   "source": [
    "df1['AMHTXRC3'].replace({2.0 : 0, 1.0 : 1}, inplace=True)"
   ]
  },
  {
   "cell_type": "code",
   "execution_count": 36,
   "metadata": {},
   "outputs": [],
   "source": [
    "# split into X and y\n",
    "X = df1.drop('AMHTXRC3', axis=1)\n",
    "y = df1.pop('AMHTXRC3')"
   ]
  },
  {
   "cell_type": "markdown",
   "metadata": {},
   "source": [
    "Encode the variables as 'object' datatype since they are categorical, not numerical, for proper interpretation by the model:"
   ]
  },
  {
   "cell_type": "code",
   "execution_count": 37,
   "metadata": {},
   "outputs": [],
   "source": [
    "# encode categorical data for predictors\n",
    "col_names = list(X)\n",
    "\n",
    "for col in col_names:\n",
    "    X[col] = X[col].astype('object', copy=False) "
   ]
  },
  {
   "cell_type": "code",
   "execution_count": 38,
   "metadata": {},
   "outputs": [
    {
     "data": {
      "text/plain": [
       "illyr         object\n",
       "bngdrkmon     object\n",
       "hvydrkmon     object\n",
       "snysell       object\n",
       "snrlgsvc      object\n",
       "snrlgimp      object\n",
       "sexident      object\n",
       "irsex         object\n",
       "eduhighcat    object\n",
       "HEALTH2       object\n",
       "NEWRACE2      object\n",
       "CATAG3        object\n",
       "wrkdpstyr     object\n",
       "irwrkstat     object\n",
       "income        object\n",
       "POVERTY3      object\n",
       "medicare      object\n",
       "caidchip      object\n",
       "champus       object\n",
       "dtype: object"
      ]
     },
     "execution_count": 38,
     "metadata": {},
     "output_type": "execute_result"
    }
   ],
   "source": [
    "# verify types\n",
    "X.dtypes"
   ]
  },
  {
   "cell_type": "markdown",
   "metadata": {},
   "source": [
    "We will create our train/test split using a 80/20 ratio and saving the seed state for reproducibility:"
   ]
  },
  {
   "cell_type": "code",
   "execution_count": 39,
   "metadata": {},
   "outputs": [],
   "source": [
    "# create train/test split\n",
    "seed = 10\n",
    "X_train, X_test, y_train, y_test = train_test_split(X, y, test_size=0.3, random_state=seed)"
   ]
  },
  {
   "cell_type": "markdown",
   "metadata": {},
   "source": [
    "The following code will process the depended variables through a one hot encoding function, splitting up the various levels in each feature to create binary measures. This will ensure proper handling and interpretability for our random forest model. The constructor below takes in both numerical and categorical data types in order to properly do the one hot encoding; however, as our model includes only categorical features, they will all pass into the encoder:"
   ]
  },
  {
   "cell_type": "code",
   "execution_count": 40,
   "metadata": {},
   "outputs": [],
   "source": [
    "enc_feat = X_train.columns[X_train.dtypes == object].tolist() \n",
    "\n",
    "# constructor for handling categorical variables for proper encoding\n",
    "trans_cols = make_column_transformer(\n",
    "                        (OneHotEncoder(), enc_feat),\n",
    "                        remainder = \"passthrough\"\n",
    "                        )"
   ]
  },
  {
   "cell_type": "markdown",
   "metadata": {},
   "source": [
    "Here we define the random forest classifier along with its hyperparameters:"
   ]
  },
  {
   "cell_type": "code",
   "execution_count": 41,
   "metadata": {},
   "outputs": [],
   "source": [
    "# define random forest classifier object\n",
    "classr = RandomForestClassifier(\n",
    "                      min_samples_leaf = 50,\n",
    "                      n_estimators = 150,\n",
    "                      bootstrap = True,\n",
    "                      oob_score = True,\n",
    "                      n_jobs = -1,\n",
    "                      random_state = seed,\n",
    "                      max_features = 'auto')"
   ]
  },
  {
   "cell_type": "markdown",
   "metadata": {},
   "source": [
    "We will make use of the pipeline feature of sklearn to perform the needed encoding, transformation, and classification of our train/test split data. It is a convenient way to reuse code in a concise manner for when multiple model fittings will be performed. Here we do that and also generate our test predictions for assessing the model performance:"
   ]
  },
  {
   "cell_type": "code",
   "execution_count": 42,
   "metadata": {},
   "outputs": [],
   "source": [
    "# fit data to model using pipeline function\n",
    "pipe = make_pipeline(trans_cols, classr)\n",
    "pipe.fit(X_train, y_train)\n",
    "\n",
    "y_pred = pipe.predict(X_test)"
   ]
  },
  {
   "cell_type": "markdown",
   "metadata": {},
   "source": [
    "## Evaluate the model"
   ]
  },
  {
   "cell_type": "markdown",
   "metadata": {},
   "source": [
    "### Accuracy\n",
    "Accuracy is defined by the sum of true positives and true negatives divided by the total number of predictions. That is, it quantifies how well the model correctly classifies the test samples. The accuracy_score() function will calculate this value for us:"
   ]
  },
  {
   "cell_type": "code",
   "execution_count": 43,
   "metadata": {},
   "outputs": [
    {
     "name": "stdout",
     "output_type": "stream",
     "text": [
      "The accuracy of the model is  82.65226589466653 %\n"
     ]
    }
   ],
   "source": [
    "acc_score = (accuracy_score(y_test, y_pred)) * 100\n",
    "print(\"The accuracy of the model is \", acc_score, \"%\")"
   ]
  },
  {
   "cell_type": "markdown",
   "metadata": {},
   "source": [
    "#### Predict Probabilities and ROC AUC Scores\n",
    "The predict_proba() function allows us to predict the probability of label 1 for our target variable in the train and test dataframes. In turn, these values will be fed into the roc_auc_score() function to plot the Receiver Operating Characteristic (ROC) score and ROC Area Under Curve (ROC AUC) scores from test and train prediction scores:"
   ]
  },
  {
   "cell_type": "code",
   "execution_count": 44,
   "metadata": {},
   "outputs": [],
   "source": [
    "prob_train = pipe.predict_proba(X_train)[:,1] \n",
    "probs = pipe.predict_proba(X_test)[:, 1]\n",
    "train_preds = pipe.predict(X_train)"
   ]
  },
  {
   "cell_type": "markdown",
   "metadata": {},
   "source": [
    "ROC AUC is produced by calulating the rate of true positives versus the rate of false positives at any particular threshold (the x-axis). Threshold means the value at which a prediction is interpreted to be true or not (1 or 0). The closer the ROC AUC scores are to 1.0, the more predictive power the model has:"
   ]
  },
  {
   "cell_type": "code",
   "execution_count": 45,
   "metadata": {},
   "outputs": [
    {
     "name": "stdout",
     "output_type": "stream",
     "text": [
      "Train ROC AUC Score:  0.7559188285996282\n",
      "Test ROC AUC  Score:  0.726123115077153\n"
     ]
    }
   ],
   "source": [
    "train_roc_auc = roc_auc_score(y_train, prob_train)\n",
    "test_roc_auc = roc_auc_score(y_test, probs)\n",
    "\n",
    "print('Train ROC AUC Score: ', train_roc_auc)\n",
    "print('Test ROC AUC  Score: ', test_roc_auc)"
   ]
  },
  {
   "cell_type": "markdown",
   "metadata": {},
   "source": [
    "Next, we plot the ROC against a baseline curve as a visual aid to compare the mode's performance. As a review, the recall of the model, or sensitivity, is defined as number of true positives divided by the sum of true positives and false negatives. Precision, on the other hand, is defined as the number of true positives divided by the sum of true positives and false positives. These values are fed into the mod_eval() function below to generate the curve.\n",
    "\n",
    "The baseline curve shown in blue represents a random classifier that cannot tell the difference between the two classes of the outcome variable and is shown as reference. We can see that the model is closer to 1.0 than baseline, (about 0.73 for the test data), indicating a modest degree of predictive power: "
   ]
  },
  {
   "cell_type": "code",
   "execution_count": 46,
   "metadata": {},
   "outputs": [
    {
     "name": "stdout",
     "output_type": "stream",
     "text": [
      "Recall Baseline: 1.0 Test: 0.0 Train: 0.0\n",
      "Precision Baseline: 0.17 Test: 1.0 Train: 1.0\n",
      "Roc Baseline: 0.5 Test: 0.73 Train: 0.76\n"
     ]
    },
    {
     "data": {
      "image/png": "[encoded data removed]",
      "text/plain": [
       "<Figure size 576x432 with 1 Axes>"
      ]
     },
     "metadata": {
      "needs_background": "light"
     },
     "output_type": "display_data"
    }
   ],
   "source": [
    "# plot the ROC AUC\n",
    "\n",
    "def mod_eval(y_pred, probs,train_preds, prob_train):\n",
    "    \n",
    "    baseline = {}\n",
    "    baseline['recall']=recall_score(y_test,[1 for _ in range(len(y_test))])\n",
    "    baseline['precision'] = precision_score(y_test,[1 for _ in range(len(y_test))])\n",
    "    baseline['roc'] = 0.5\n",
    "    results = {}\n",
    "    results['recall'] = recall_score(y_test, y_pred)\n",
    "    results['precision'] = precision_score(y_test, y_pred)\n",
    "    results['roc'] = roc_auc_score(y_test, probs)\n",
    "    train_results = {}\n",
    "    train_results['recall'] = recall_score(y_train, train_preds)\n",
    "    train_results['precision'] = precision_score(y_train, train_preds)\n",
    "    train_results['roc'] = roc_auc_score(y_train, prob_train)\n",
    "    \n",
    "    for metric in ['recall', 'precision', 'roc']:  \n",
    "          print(f'{metric.capitalize()} Baseline: {round(baseline[metric], 2)} Test: {round(results[metric], 2)} Train: {round(train_results[metric], 2)}')\n",
    "     \n",
    "    # Calculate false positive rates and true positive rates\n",
    "    base_fpr, base_tpr, _ = roc_curve(y_test, [1 for _ in range(len(y_test))])\n",
    "    model_fpr, model_tpr, _ = roc_curve(y_test, probs)\n",
    "    plt.figure(figsize = (8, 6))\n",
    "    plt.rcParams['font.size'] = 16\n",
    "    \n",
    "    # Plot both curves\n",
    "    plt.plot(base_fpr, base_tpr, 'b', label = 'baseline')\n",
    "    plt.plot(model_fpr, model_tpr, 'r', label = 'model')\n",
    "    plt.legend();\n",
    "    plt.xlabel('False Positive Rate');\n",
    "    plt.ylabel('True Positive Rate'); plt.title('ROC Curves');\n",
    "    plt.show();\n",
    "\n",
    "mod_eval(y_pred, probs, train_preds, prob_train)"
   ]
  },
  {
   "cell_type": "markdown",
   "metadata": {},
   "source": [
    "### Confusion Matrix\n",
    "A Confusion Matrix provides us with another metric to evaluate the quality of the output of our random forest classifier and makes use of some of the values we have already mentioned and calculated above. Diagonal elements represent correctly classified predictions (true negatives and positives) while the others are incorrecly classified (false negatives and positives). Here we can see a numerical representation of where the loss of performance of our model lies: a high number of false negatives (1558) and few true negatives (1):"
   ]
  },
  {
   "cell_type": "code",
   "execution_count": 47,
   "metadata": {},
   "outputs": [
    {
     "data": {
      "image/png": "[encoded data removed]",
      "text/plain": [
       "<Figure size 720x720 with 2 Axes>"
      ]
     },
     "metadata": {
      "needs_background": "light"
     },
     "output_type": "display_data"
    }
   ],
   "source": [
    "import itertools\n",
    "\n",
    "def plot_confusion_matrix(cm, classes, normalize = False, title='Confusion matrix', cmap=plt.cm.Blues): \n",
    "    # plot parameters\n",
    "    plt.figure(figsize = (10, 10))\n",
    "    plt.imshow(cm, interpolation='nearest', cmap=cmap)\n",
    "    plt.title(title, size = 24)\n",
    "    plt.colorbar(aspect=4)\n",
    "    \n",
    "    tick_marks = np.arange(len(classes))\n",
    "    \n",
    "    plt.xticks(tick_marks, classes, rotation=45, size = 14)\n",
    "    plt.yticks(tick_marks, classes, size = 14)\n",
    "    \n",
    "    fmt = '.2f' if normalize else 'd'\n",
    "    thresh = cm.max() / 2.\n",
    "    \n",
    "    # Plot labels\n",
    "    for i, j in itertools.product(range(cm.shape[0]),   range(cm.shape[1])):\n",
    "        plt.text(j, i, format(cm[i, j], fmt), fontsize = 20, horizontalalignment=\"center\", color=\"white\" if cm[i, j] > thresh else \"black\")\n",
    "        plt.grid(None)\n",
    "        plt.tight_layout()\n",
    "        plt.ylabel('True label', size = 18)\n",
    "        plt.xlabel('Predicted label', size = 18)\n",
    "\n",
    "# Plot the confusion matrix\n",
    "cm = confusion_matrix(y_test, y_pred)\n",
    "plot_confusion_matrix(cm, classes = ['0 - Did not receive MH treatment', '1 - Received MH treatment'], title = 'MH Treatment Confusion Matrix')"
   ]
  },
  {
   "cell_type": "markdown",
   "metadata": {},
   "source": [
    "### Feature Importance\n",
    "Using the results of the classification model, we can assess the importance of the different features in the data set. The number of features as calculated here are more numerous than the number of predictor variables that were selected at the start of the analysis. This is due to the pipe function above which properly transformed the categorical data for each level as they were being inputed into the model algorithm. "
   ]
  },
  {
   "cell_type": "markdown",
   "metadata": {},
   "source": [
    "We can count the number of features and visualize the relative importance of each feature using the import_feat_ module of the random forest classifier:"
   ]
  },
  {
   "cell_type": "code",
   "execution_count": 49,
   "metadata": {},
   "outputs": [
    {
     "name": "stdout",
     "output_type": "stream",
     "text": [
      " There are now  67 features in the model\n"
     ]
    }
   ],
   "source": [
    "feat_len = len(classr.feature_importances_)\n",
    "print(\" There are now \", feat_len, \"features in the model\")"
   ]
  },
  {
   "cell_type": "markdown",
   "metadata": {},
   "source": [
    "The enc_bind function will encode and bind our expanded training data set into a dataframe for use in calculating the relative importance of each feature level:"
   ]
  },
  {
   "cell_type": "code",
   "execution_count": 50,
   "metadata": {},
   "outputs": [],
   "source": [
    "def enc_bind(original_dataframe, enc_feat):\n",
    "    dummies = pd.get_dummies(original_dataframe[enc_feat])\n",
    "    res = pd.concat([dummies, original_dataframe], axis=1)\n",
    "    res = res.drop(enc_feat, axis=1)\n",
    "    return(res)\n",
    "\n",
    "X_train_encoded = enc_bind(X_train, enc_feat)"
   ]
  },
  {
   "cell_type": "markdown",
   "metadata": {},
   "source": [
    "We can now create and display an ordered rank of relative importance for each feature level numerically and graphically:"
   ]
  },
  {
   "cell_type": "code",
   "execution_count": 52,
   "metadata": {},
   "outputs": [
    {
     "name": "stdout",
     "output_type": "stream",
     "text": [
      "Feature: NEWRACE2_1                          Importance: 0.1308779396907491\n",
      "Feature: irsex_1                             Importance: 0.13060804165350132\n",
      "Feature: irsex_2                             Importance: 0.11164958213337589\n",
      "Feature: sexident_1                          Importance: 0.07601509331920872\n",
      "Feature: illyr_1                             Importance: 0.04968456434444743\n",
      "Feature: sexident_3                          Importance: 0.04917297794082869\n",
      "Feature: illyr_0                             Importance: 0.04898329244747855\n",
      "Feature: HEALTH2_1.0                         Importance: 0.036049456787577976\n",
      "Feature: HEALTH2_4.0                         Importance: 0.028929807467501848\n",
      "Feature: eduhighcat_4                        Importance: 0.027712332928209068\n",
      "Feature: NEWRACE2_7                          Importance: 0.026950163333736933\n",
      "Feature: NEWRACE2_2                          Importance: 0.0250075501482341\n",
      "Feature: eduhighcat_2                        Importance: 0.020545702073056744\n",
      "Feature: irwrkstat_1                         Importance: 0.016630142207769052\n",
      "Feature: irwrkstat_2                         Importance: 0.013716781050002486\n",
      "Feature: HEALTH2_3.0                         Importance: 0.012488197995328694\n",
      "Feature: NEWRACE2_5                          Importance: 0.011340391983739932\n",
      "Feature: HEALTH2_2.0                         Importance: 0.01121330924505461\n",
      "Feature: snrlgsvc_1                          Importance: 0.010880801407507421\n",
      "Feature: snrlgimp_3                          Importance: 0.010814965194533366\n",
      "Feature: eduhighcat_3                        Importance: 0.010586017874852851\n",
      "Feature: snrlgimp_1                          Importance: 0.010025339927495274\n",
      "Feature: income_4                            Importance: 0.009792540908691742\n",
      "Feature: CATAG3_4                            Importance: 0.009271250000912631\n",
      "Feature: POVERTY3_3.0                        Importance: 0.007231834068989465\n",
      "Feature: bngdrkmon_0                         Importance: 0.007094470222753595\n",
      "Feature: bngdrkmon_1                         Importance: 0.006982078522347231\n",
      "Feature: CATAG3_2                            Importance: 0.0066052540216132855\n",
      "Feature: income_2                            Importance: 0.006560744025111398\n",
      "Feature: snrlgimp_4                          Importance: 0.006088431562473816\n",
      "Feature: caidchip_2                          Importance: 0.005784971969942696\n",
      "Feature: snrlgimp_2                          Importance: 0.00552965370356129\n",
      "Feature: CATAG3_3                            Importance: 0.005351510784181397\n",
      "Feature: CATAG3_5                            Importance: 0.005289517365140685\n",
      "Feature: eduhighcat_1                        Importance: 0.004789813507478476\n",
      "Feature: caidchip_1                          Importance: 0.004382521199514739\n",
      "Feature: POVERTY3_2.0                        Importance: 0.004001192916873253\n",
      "Feature: POVERTY3_1.0                        Importance: 0.00337987360773207\n",
      "Feature: income_3                            Importance: 0.0032844906671491304\n",
      "Feature: sexident_2                          Importance: 0.003068643325116139\n",
      "Feature: snrlgsvc_4                          Importance: 0.0027603676513676604\n",
      "Feature: snrlgsvc_5                          Importance: 0.0027557533276433384\n",
      "Feature: income_1                            Importance: 0.0025150133397086366\n",
      "Feature: snrlgsvc_3                          Importance: 0.0024699400189593583\n",
      "Feature: snrlgsvc_2                          Importance: 0.0024050106186433245\n",
      "Feature: snrlgsvc_6                          Importance: 0.002043662570148638\n",
      "Feature: hvydrkmon_1                         Importance: 0.0019611505086928006\n",
      "Feature: NEWRACE2_6                          Importance: 0.001711359689071736\n",
      "Feature: hvydrkmon_0                         Importance: 0.0011598985048410103\n",
      "Feature: wrkdpstyr_99                        Importance: 0.0009347122124015877\n",
      "Feature: irwrkstat_3                         Importance: 0.0009038600977992724\n",
      "Feature: medicare_2                          Importance: 0.0008979964098207288\n",
      "Feature: medicare_1                          Importance: 0.0008272446363955802\n",
      "Feature: wrkdpstyr_1                         Importance: 0.0008104480538806417\n",
      "Feature: champus_1                           Importance: 0.00035915061086153993\n",
      "Feature: wrkdpstyr_2                         Importance: 0.00035843323487050495\n",
      "Feature: snysell_1                           Importance: 0.00026057150280811515\n",
      "Feature: NEWRACE2_3                          Importance: 0.00023478602219614595\n",
      "Feature: champus_2                           Importance: 0.0002265878892703541\n",
      "Feature: snysell_5                           Importance: 3.2809566845813496e-05\n",
      "Feature: snysell_2                           Importance: 0.0\n",
      "Feature: snysell_3                           Importance: 0.0\n",
      "Feature: snysell_4                           Importance: 0.0\n",
      "Feature: NEWRACE2_4                          Importance: 0.0\n",
      "Feature: wrkdpstyr_85                        Importance: 0.0\n",
      "Feature: wrkdpstyr_94                        Importance: 0.0\n",
      "Feature: wrkdpstyr_97                        Importance: 0.0\n"
     ]
    }
   ],
   "source": [
    "import_feat = list(zip(X_train_encoded, classr.feature_importances_))\n",
    "\n",
    "# Then sort the feature importances by most important first\n",
    "import_feat_ranked = sorted(import_feat, key = lambda x: x[1], reverse = True)\n",
    "\n",
    "# Print out the feature and importances\n",
    "[print('Feature: {:35} Importance: {}'.format(*pair)) for pair in import_feat_ranked];"
   ]
  },
  {
   "cell_type": "code",
   "execution_count": 55,
   "metadata": {},
   "outputs": [
    {
     "data": {
      "image/png": "[encoded data removed]",
      "text/plain": [
       "<Figure size 720x1008 with 1 Axes>"
      ]
     },
     "metadata": {
      "needs_background": "light"
     },
     "output_type": "display_data"
    }
   ],
   "source": [
    "# Plot of Top 15 Feature Importance\n",
    "top_15 = [i[0] for i in import_feat_ranked[:15]]\n",
    "y_ticks = np.arange(0, len(top_15))\n",
    "x_axis = [i[1] for i in import_feat_ranked[:15]]\n",
    "\n",
    "plt.figure(figsize = (10, 14))\n",
    "plt.barh(top_15, x_axis)   #horizontal barplot\n",
    "plt.title('Top 15 Random Forest Important Features')\n",
    "plt.xlabel('Features', fontdict= {'fontsize' : 16})\n",
    "plt.show()"
   ]
  },
  {
   "cell_type": "markdown",
   "metadata": {},
   "source": [
    "According to the results, the 10 most important features which contribute best to the predictive power of the model are:\n",
    "* NEWRACE2_1: non-hispanic white\n",
    "* irsex_1: Male\n",
    "* irsex_2: Female\n",
    "* sexident_1: Heterosexual\n",
    "* illyr_1: used illicit drugs in the past year\n",
    "* sexident_3: Bisexual\n",
    "* illyr_0: did not use illicit drugs in the past year\n",
    "* HEALTH2_1.0: Excellent health\n",
    "* HEALTH2_4.0: Fair/poor health\n",
    "* eduhighcat_4: College graduates"
   ]
  },
  {
   "cell_type": "markdown",
   "metadata": {},
   "source": [
    "## Conclusion and Next Steps\n",
    "\n",
    "### Feature Selection/Engineering\n",
    "The important features identification process could be taken a step further to rebuild the model using the top 15 features and measure its effect on the accuracy of the new model's performance to compare it to the old one.\n",
    "\n",
    "### Hyperparameter Tuning\n",
    "The next step here would be to run a series of models while setting the parameters for the random forest classifier at random, each time recording the model performance by calculating the ROC AUC and accuracies as above. In addition, hyperparameter tuning helps to mitigate the tradeoff between bias and variance so as to minimize error and maximize goodness-of-fit. "
   ]
  }
 ],
 "metadata": {
  "interpreter": {
   "hash": "bebbcae655b5d9c2799d40bdaa7fd61da39d7c66ac19eac61b48528ddf0f93e0"
  },
  "kernelspec": {
   "display_name": "Python 3.8.8 64-bit ('base': conda)",
   "language": "python",
   "name": "python3"
  },
  "language_info": {
   "codemirror_mode": {
    "name": "ipython",
    "version": 3
   },
   "file_extension": ".py",
   "mimetype": "text/x-python",
   "name": "python",
   "nbconvert_exporter": "python",
   "pygments_lexer": "ipython3",
   "version": "3.8.8"
  },
  "orig_nbformat": 4
 },
 "nbformat": 4,
 "nbformat_minor": 2
}
