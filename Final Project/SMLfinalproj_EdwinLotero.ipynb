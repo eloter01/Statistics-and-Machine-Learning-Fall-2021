{
 "cells": [
  {
   "cell_type": "markdown",
   "metadata": {},
   "source": [
    "Title: Final Project for Stats and Machine Learning\\\n",
    "Date: Jan. 3, 2021\\\n",
    "Author: Edwin Lotero\\\n",
    "Summary: Classification Model using Random Forest Algorithm"
   ]
  },
  {
   "cell_type": "markdown",
   "metadata": {},
   "source": [
    "## Introduction\n",
    "\n",
    "This project will look at various factors that may be related to use of mental health services among the population. While causative factors require more complex analysis and study than I will conduct here, statistical models may be employed for identifying individuals in society that may be in need of mental health services  or may require in the future. This report will construct a predictive model for classifying these individuals by their various characteristics using a random forest classification scheme.\n",
    "\n",
    "## Data Description\n",
    "The data I analyzed in this report, file name PUF2019_100920, was generated from the results of the 2019 National Survey on Drug Use and Health (NSDUH) which was administered by the Substance Abuse and Mental Health Services Administration (SAMHSA). It is public access and available through the agency's public database website, https://www.datafiles.samhsa.gov/. The purpose of the survey is to college factors relating to the prevalence of substance use and mental health issues among the United States population, and is the 39th in its series. The data set is made up of 2,741 variables and 56,136 observations which include fields such as youth experiences, mental health and substance use history, demographic identifiers, and educational attainment. Each observation is unique.\n",
    "\n",
    "## Data Source\n",
    "The data source can be downloaded here for processing: https://www.datafiles.samhsa.gov/dataset/national-survey-drug-use-and-health-2019-nsduh-2019-ds0001"
   ]
  },
  {
   "cell_type": "code",
   "execution_count": 1,
   "metadata": {},
   "outputs": [],
   "source": [
    "import pandas as pd\n",
    "import numpy as np\n",
    "import matplotlib.pyplot as plt\n",
    "from sklearn.model_selection import train_test_split\n",
    "from sklearn.ensemble import RandomForestClassifier\n",
    "from sklearn.preprocessing import OneHotEncoder\n",
    "from sklearn.compose import make_column_transformer\n",
    "from sklearn.pipeline import Pipeline\n",
    "from sklearn.metrics import accuracy_score, confusion_matrix, precision_score, recall_score, roc_auc_score, roc_curve, f1_score\n",
    "from pathlib import Path"
   ]
  },
  {
   "cell_type": "code",
   "execution_count": 3,
   "metadata": {},
   "outputs": [
    {
     "name": "stderr",
     "output_type": "stream",
     "text": [
      "C:\\Users\\elote\\AppData\\Local\\Temp\\ipykernel_29172\\4250624786.py:2: DtypeWarning: Columns (2512) have mixed types. Specify dtype option on import or set low_memory=False.\n",
      "  raw_data = pd.read_csv('C:\\\\Users\\\\elote\\\\Repositories\\\\Statistics-and-Machine-Learning-Fall-2021\\\\data\\\\NSDUH_2015_2019.csv')\n"
     ]
    }
   ],
   "source": [
    "# load data set\n",
    "raw_data = pd.read_csv('C:\\\\Users\\\\elote\\\\Repositories\\\\Statistics-and-Machine-Learning-Fall-2021\\\\data\\\\NSDUH_2015_2019.csv')\n",
    "#raw_data = pd.read_csv('C:\\\\Users\\\\elote\\\\Repositories\\\\Statistics-and-Machine-Learning-Fall-2021\\\\data\\\\NSDUH_2019.txt', delim_whitespace=True)"
   ]
  },
  {
   "cell_type": "code",
   "execution_count": 230,
   "metadata": {},
   "outputs": [
    {
     "name": "stderr",
     "output_type": "stream",
     "text": [
      "C:\\Users\\elote\\AppData\\Local\\Temp\\ipykernel_2652\\48493878.py:4: DtypeWarning: Columns (2512) have mixed types. Specify dtype option on import or set low_memory=False.\n",
      "  raw_data = pd.read_csv(DATA_DIR / \"NSDUH_2015_2019.csv\")\n"
     ]
    }
   ],
   "source": [
    "# Better:\n",
    "from pathlib import Path\n",
    "DATA_DIR = Path('C:\\\\Users\\\\elote\\\\Repositories\\\\Statistics-and-Machine-Learning-Fall-2021\\\\data\\\\')\n",
    "raw_data = pd.read_csv(DATA_DIR / \"NSDUH_2015_2019.csv\")"
   ]
  },
  {
   "cell_type": "code",
   "execution_count": 4,
   "metadata": {},
   "outputs": [
    {
     "data": {
      "text/plain": [
       "(282768, 2812)"
      ]
     },
     "execution_count": 4,
     "metadata": {},
     "output_type": "execute_result"
    }
   ],
   "source": [
    "raw_data.shape"
   ]
  },
  {
   "cell_type": "markdown",
   "metadata": {},
   "source": [
    "Do we have a unique identifier?"
   ]
  },
  {
   "cell_type": "code",
   "execution_count": 10,
   "metadata": {},
   "outputs": [
    {
     "name": "stdout",
     "output_type": "stream",
     "text": [
      "Series([], dtype: int64)\n"
     ]
    }
   ],
   "source": [
    "# get # unique values for each column\n",
    "unique_counts = raw_data.dropna().nunique()\n",
    "\n",
    "# Identify columns where all values are unique\n",
    "potential_identifiers = unique_counts[unique_counts == len(raw_data)]\n",
    "print(potential_identifiers)"
   ]
  },
  {
   "cell_type": "markdown",
   "metadata": {},
   "source": [
    "## Preprocessing"
   ]
  },
  {
   "cell_type": "markdown",
   "metadata": {},
   "source": [
    "Being a large data set with a vast number of variables, it was necessary to narrow down to several of interest to the creation of a classification model. These are listed and defined below, and their values are taken from the data set codebook:"
   ]
  },
  {
   "cell_type": "markdown",
   "metadata": {},
   "source": [
    "### Target variable\n",
    "The outcome variable selected is AMHTXRC3: Received any mental health treatment within the past year\n",
    "  * 1 = Yes\n",
    "  * 2 = No \n",
    "\n",
    "### Predictor variables\n",
    "The features selected are:\n",
    "* illyr: ANY ILLICIT DRUG - PAST YEAR USE\n",
    "  * 0 = Did not use in past year\n",
    "  * 1 = Used in past year\n",
    "* bngdrkmon: BINGE ALCOHOL USE PAST 30 DAYS\n",
    "  * 0 = Never/No \"Binge\" alc use\n",
    "  * 1 = \"Binge\" alcohol use\n",
    "* hvydrkmon: HEAVY ALCOHOL USE PAST 30 DAYS\n",
    "  * 0 = Never/No heavy alc use\n",
    "  * 1 = Heavy alcohol use\n",
    "* snysell: SOLD ILLEGAL DRUGS\n",
    "  * 1 = 0 times\n",
    "  * 2 = 1 or 2 times\n",
    "  * 3 = 3 to 5 times\n",
    "  * 4 = 6 to 9 times\n",
    "  * 5 = 10 or more times\n",
    "* snrlgsvc: AST 12 MOS, HOW MANY RELIG. SERVICES\n",
    "  * 1 = 0 times\n",
    "  * 2 = 1 to 2 times\n",
    "  * 3 = 3 to 5 times\n",
    "  * 4 = 6 to 24 times\n",
    "  * 5 = 25 to 52 times\n",
    "  * 6 = More than 52 times\n",
    "* snrlgimp: MY RELIGIOUS BELIEFS ARE VERY IMPORTANT\n",
    "  * 1 = Strongly Disagree\n",
    "  * 2 = Disagree\n",
    "  * 3 = Agree\n",
    "  * 4 = Strongly Agree\n",
    "* sexident: SEXUAL IDENTITY\n",
    "  * 1 = Heterosexual, that is, straight.\n",
    "  * 2 = Lesbian or Gay\n",
    "  * 3 = Bisexual\n",
    "* irsex: GENDER\n",
    "  * 1 = Male\n",
    "  * 2 = Female\n",
    "* eduhighcat: EDUCATION CATEGORIES\n",
    "  * 1 = Less high school\n",
    "  * 2 = High school grad\n",
    "  * 3 = Some coll/Assoc Dg\n",
    "  * 4 = College graduate \n",
    "  * 5 = 12 to 17 year olds\n",
    "* HEALTH2: OVERALL HEALTH\n",
    "  * 1 = Excellent\n",
    "  * 2 = Very Good\n",
    "  * 3 = Good\n",
    "  * 4 = Fair/Poor\n",
    "* NEWRACE2: RACE/HISPANICITY\n",
    "  * 1 = NonHisp White\n",
    "  * 2 = NonHisp Black/Afr Am\n",
    "  * 3 = NonHisp Native Am/AK Native\n",
    "  * 4 = NonHisp Native HI/Other Pac Isl\n",
    "  * 5 = NonHisp Asian \n",
    "  * 6 = NonHisp more than one race\n",
    "* CATAG3: AGE CATEGORY\n",
    "  * 1 = 12-17 Years Old\n",
    "  * 2 = 18-25 Years Old.\n",
    "  * 3 = 26-34 Years Old\n",
    "  * 4 = 35-49 Years Old\n",
    "  * 5 = 50 or Older\n",
    "* wrkdpstyr: PAST 12 MONTHS, WORKED AT ANY JOB\n",
    "  * 1 = Yes\n",
    "  * 2 = No\n",
    "* irwrkstat: EMPLOYMENT STATUS\n",
    "  * 1 = Employed full time \n",
    "  * 2 = Employed part time\n",
    "  * 3 = Unemployed\n",
    "* income: TOTAL FAMILY INCOME\n",
    "  * 1 = Less than $20,000\n",
    "  * 2 = $20,000 - $49,999\n",
    "  * 3 = $50,000 - $74,999\n",
    "  * 4 = $75,000 or More\n",
    "* POVERTY3: POVERTY LVL (% OF US CENSUS POVERTY THRESHOLD)\n",
    "  * 1 = Living in Poverty\n",
    "  * 2 = Income Up to 2X Fed Pov Thresh\n",
    "  * 3 = Income More Than 2X Fed Pov Thresh\n",
    "* medicare: COVERED BY MEDICARE\n",
    "  * 1 = Yes\n",
    "  * 2 = No\n",
    "* caidchip: COVERED BY MEDICAID/CHIP\n",
    "  * 1 = Yes\n",
    "  * 2 = No\n",
    "* champus: COV BY TRICARE, CHAMPUS, CHAMPVA, VA, MILITARY\n",
    "  * 1 = Yes\n",
    "  * 2 = No"
   ]
  },
  {
   "cell_type": "markdown",
   "metadata": {},
   "source": [
    "Subset the raw data to narrow down to predictors and outcome variable:"
   ]
  },
  {
   "cell_type": "code",
   "execution_count": 12,
   "metadata": {},
   "outputs": [
    {
     "name": "stdout",
     "output_type": "stream",
     "text": [
      "Index(['cigever', 'cigofrsm', 'cigwilyr', 'cigtry', 'cigyfu', 'cigmfu',\n",
      "       'cigrec', 'cig30use', 'cg30est', 'cig30av', 'cig30br2', 'cig30tpe',\n",
      "       'cig30men', 'cig30mln', 'cig30ro2', 'cigdlymo', 'cigage', 'cigdlyfu',\n",
      "       'cigdlmfu', 'cig100lf'],\n",
      "      dtype='object')\n"
     ]
    }
   ],
   "source": [
    "columns_lower = [col.lower() for col in raw_data.columns]\n",
    "raw_data.columns = columns_lower\n",
    "print(raw_data.columns[0:20])"
   ]
  },
  {
   "cell_type": "code",
   "execution_count": 13,
   "metadata": {},
   "outputs": [
    {
     "name": "stdout",
     "output_type": "stream",
     "text": [
      "['amhtxrc3', 'illyr', 'bngdrkmon', 'hvydrkmon', 'snysell', 'snrlgsvc', 'snrlgimp', 'sexident', 'irsex', 'eduhighcat', 'health2', 'newrace2', 'catag3', 'wrkdpstyr', 'irwrkstat', 'income', 'poverty3', 'medicare', 'caidchip', 'champus']\n"
     ]
    }
   ],
   "source": [
    "# select features\n",
    "features_list = ['amhtxrc3', 'illyr', 'bngdrkmon', 'hvydrkmon', 'snysell', 'snrlgsvc', 'snrlgimp', 'sexident', 'irsex', 'eduhighcat', 'health2', \n",
    "'newrace2', 'catag3', 'wrkdpstyr', 'irwrkstat', 'income', 'poverty3', 'medicare', 'caidchip', 'champus']\n",
    "\n",
    "# features_list = [col.lower() for col in predictor_list]\n",
    "print(features_list)"
   ]
  },
  {
   "cell_type": "code",
   "execution_count": 14,
   "metadata": {},
   "outputs": [],
   "source": [
    "# select subset of raw data with predictors and outcome\n",
    "df1 = raw_data[features_list].copy()"
   ]
  },
  {
   "cell_type": "code",
   "execution_count": 15,
   "metadata": {},
   "outputs": [],
   "source": [
    "df2 = raw_data[features_list].copy()"
   ]
  },
  {
   "cell_type": "code",
   "execution_count": 18,
   "metadata": {},
   "outputs": [
    {
     "data": {
      "text/plain": [
       "10"
      ]
     },
     "execution_count": 18,
     "metadata": {},
     "output_type": "execute_result"
    }
   ],
   "source": [
    "df2['snrlgimp'].nunique()"
   ]
  },
  {
   "cell_type": "code",
   "execution_count": 32,
   "metadata": {},
   "outputs": [
    {
     "data": {
      "text/html": [
       "<div>\n",
       "<style scoped>\n",
       "    .dataframe tbody tr th:only-of-type {\n",
       "        vertical-align: middle;\n",
       "    }\n",
       "\n",
       "    .dataframe tbody tr th {\n",
       "        vertical-align: top;\n",
       "    }\n",
       "\n",
       "    .dataframe thead th {\n",
       "        text-align: right;\n",
       "    }\n",
       "</style>\n",
       "<table border=\"1\" class=\"dataframe\">\n",
       "  <thead>\n",
       "    <tr style=\"text-align: right;\">\n",
       "      <th></th>\n",
       "      <th>cigever</th>\n",
       "      <th>cigofrsm</th>\n",
       "      <th>cigwilyr</th>\n",
       "      <th>cigtry</th>\n",
       "      <th>cigyfu</th>\n",
       "      <th>cigmfu</th>\n",
       "      <th>cigrec</th>\n",
       "      <th>cig30use</th>\n",
       "      <th>cg30est</th>\n",
       "      <th>cig30av</th>\n",
       "      <th>cig30br2</th>\n",
       "      <th>cig30tpe</th>\n",
       "      <th>cig30men</th>\n",
       "      <th>cig30mln</th>\n",
       "      <th>cig30ro2</th>\n",
       "      <th>cigdlymo</th>\n",
       "      <th>cigage</th>\n",
       "      <th>cigdlyfu</th>\n",
       "      <th>cigdlmfu</th>\n",
       "      <th>cig100lf</th>\n",
       "    </tr>\n",
       "  </thead>\n",
       "  <tbody>\n",
       "    <tr>\n",
       "      <th>0</th>\n",
       "      <td>1</td>\n",
       "      <td>99</td>\n",
       "      <td>99</td>\n",
       "      <td>16</td>\n",
       "      <td>2014</td>\n",
       "      <td>1</td>\n",
       "      <td>2</td>\n",
       "      <td>93</td>\n",
       "      <td>93</td>\n",
       "      <td>93</td>\n",
       "      <td>9993</td>\n",
       "      <td>93</td>\n",
       "      <td>93</td>\n",
       "      <td>93</td>\n",
       "      <td>93</td>\n",
       "      <td>2</td>\n",
       "      <td>999</td>\n",
       "      <td>9999</td>\n",
       "      <td>99</td>\n",
       "      <td>2</td>\n",
       "    </tr>\n",
       "    <tr>\n",
       "      <th>1</th>\n",
       "      <td>1</td>\n",
       "      <td>99</td>\n",
       "      <td>99</td>\n",
       "      <td>15</td>\n",
       "      <td>9999</td>\n",
       "      <td>99</td>\n",
       "      <td>3</td>\n",
       "      <td>93</td>\n",
       "      <td>93</td>\n",
       "      <td>93</td>\n",
       "      <td>9993</td>\n",
       "      <td>93</td>\n",
       "      <td>93</td>\n",
       "      <td>93</td>\n",
       "      <td>93</td>\n",
       "      <td>1</td>\n",
       "      <td>16</td>\n",
       "      <td>9999</td>\n",
       "      <td>99</td>\n",
       "      <td>1</td>\n",
       "    </tr>\n",
       "    <tr>\n",
       "      <th>2</th>\n",
       "      <td>2</td>\n",
       "      <td>99</td>\n",
       "      <td>99</td>\n",
       "      <td>991</td>\n",
       "      <td>9991</td>\n",
       "      <td>91</td>\n",
       "      <td>91</td>\n",
       "      <td>91</td>\n",
       "      <td>91</td>\n",
       "      <td>91</td>\n",
       "      <td>9991</td>\n",
       "      <td>91</td>\n",
       "      <td>91</td>\n",
       "      <td>91</td>\n",
       "      <td>91</td>\n",
       "      <td>91</td>\n",
       "      <td>991</td>\n",
       "      <td>9991</td>\n",
       "      <td>91</td>\n",
       "      <td>91</td>\n",
       "    </tr>\n",
       "    <tr>\n",
       "      <th>3</th>\n",
       "      <td>2</td>\n",
       "      <td>3</td>\n",
       "      <td>4</td>\n",
       "      <td>991</td>\n",
       "      <td>9991</td>\n",
       "      <td>91</td>\n",
       "      <td>91</td>\n",
       "      <td>91</td>\n",
       "      <td>91</td>\n",
       "      <td>91</td>\n",
       "      <td>9991</td>\n",
       "      <td>91</td>\n",
       "      <td>91</td>\n",
       "      <td>91</td>\n",
       "      <td>91</td>\n",
       "      <td>91</td>\n",
       "      <td>991</td>\n",
       "      <td>9991</td>\n",
       "      <td>91</td>\n",
       "      <td>91</td>\n",
       "    </tr>\n",
       "    <tr>\n",
       "      <th>4</th>\n",
       "      <td>1</td>\n",
       "      <td>99</td>\n",
       "      <td>99</td>\n",
       "      <td>17</td>\n",
       "      <td>9999</td>\n",
       "      <td>99</td>\n",
       "      <td>1</td>\n",
       "      <td>22</td>\n",
       "      <td>99</td>\n",
       "      <td>3</td>\n",
       "      <td>112</td>\n",
       "      <td>1</td>\n",
       "      <td>2</td>\n",
       "      <td>1</td>\n",
       "      <td>2</td>\n",
       "      <td>1</td>\n",
       "      <td>18</td>\n",
       "      <td>9999</td>\n",
       "      <td>99</td>\n",
       "      <td>1</td>\n",
       "    </tr>\n",
       "    <tr>\n",
       "      <th>5</th>\n",
       "      <td>1</td>\n",
       "      <td>99</td>\n",
       "      <td>99</td>\n",
       "      <td>21</td>\n",
       "      <td>9999</td>\n",
       "      <td>99</td>\n",
       "      <td>2</td>\n",
       "      <td>93</td>\n",
       "      <td>93</td>\n",
       "      <td>93</td>\n",
       "      <td>9993</td>\n",
       "      <td>93</td>\n",
       "      <td>93</td>\n",
       "      <td>93</td>\n",
       "      <td>93</td>\n",
       "      <td>2</td>\n",
       "      <td>999</td>\n",
       "      <td>9999</td>\n",
       "      <td>99</td>\n",
       "      <td>1</td>\n",
       "    </tr>\n",
       "    <tr>\n",
       "      <th>6</th>\n",
       "      <td>1</td>\n",
       "      <td>99</td>\n",
       "      <td>99</td>\n",
       "      <td>17</td>\n",
       "      <td>9999</td>\n",
       "      <td>99</td>\n",
       "      <td>4</td>\n",
       "      <td>93</td>\n",
       "      <td>93</td>\n",
       "      <td>93</td>\n",
       "      <td>9993</td>\n",
       "      <td>93</td>\n",
       "      <td>93</td>\n",
       "      <td>93</td>\n",
       "      <td>93</td>\n",
       "      <td>2</td>\n",
       "      <td>999</td>\n",
       "      <td>9999</td>\n",
       "      <td>99</td>\n",
       "      <td>2</td>\n",
       "    </tr>\n",
       "    <tr>\n",
       "      <th>7</th>\n",
       "      <td>2</td>\n",
       "      <td>4</td>\n",
       "      <td>4</td>\n",
       "      <td>991</td>\n",
       "      <td>9991</td>\n",
       "      <td>91</td>\n",
       "      <td>91</td>\n",
       "      <td>91</td>\n",
       "      <td>91</td>\n",
       "      <td>91</td>\n",
       "      <td>9991</td>\n",
       "      <td>91</td>\n",
       "      <td>91</td>\n",
       "      <td>91</td>\n",
       "      <td>91</td>\n",
       "      <td>91</td>\n",
       "      <td>991</td>\n",
       "      <td>9991</td>\n",
       "      <td>91</td>\n",
       "      <td>91</td>\n",
       "    </tr>\n",
       "    <tr>\n",
       "      <th>8</th>\n",
       "      <td>2</td>\n",
       "      <td>4</td>\n",
       "      <td>4</td>\n",
       "      <td>991</td>\n",
       "      <td>9991</td>\n",
       "      <td>91</td>\n",
       "      <td>91</td>\n",
       "      <td>91</td>\n",
       "      <td>91</td>\n",
       "      <td>91</td>\n",
       "      <td>9991</td>\n",
       "      <td>91</td>\n",
       "      <td>91</td>\n",
       "      <td>91</td>\n",
       "      <td>91</td>\n",
       "      <td>91</td>\n",
       "      <td>991</td>\n",
       "      <td>9991</td>\n",
       "      <td>91</td>\n",
       "      <td>91</td>\n",
       "    </tr>\n",
       "    <tr>\n",
       "      <th>9</th>\n",
       "      <td>2</td>\n",
       "      <td>4</td>\n",
       "      <td>4</td>\n",
       "      <td>991</td>\n",
       "      <td>9991</td>\n",
       "      <td>91</td>\n",
       "      <td>91</td>\n",
       "      <td>91</td>\n",
       "      <td>91</td>\n",
       "      <td>91</td>\n",
       "      <td>9991</td>\n",
       "      <td>91</td>\n",
       "      <td>91</td>\n",
       "      <td>91</td>\n",
       "      <td>91</td>\n",
       "      <td>91</td>\n",
       "      <td>991</td>\n",
       "      <td>9991</td>\n",
       "      <td>91</td>\n",
       "      <td>91</td>\n",
       "    </tr>\n",
       "  </tbody>\n",
       "</table>\n",
       "</div>"
      ],
      "text/plain": [
       "   cigever  cigofrsm  cigwilyr  cigtry  cigyfu  cigmfu  cigrec  cig30use  \\\n",
       "0        1        99        99      16    2014       1       2        93   \n",
       "1        1        99        99      15    9999      99       3        93   \n",
       "2        2        99        99     991    9991      91      91        91   \n",
       "3        2         3         4     991    9991      91      91        91   \n",
       "4        1        99        99      17    9999      99       1        22   \n",
       "5        1        99        99      21    9999      99       2        93   \n",
       "6        1        99        99      17    9999      99       4        93   \n",
       "7        2         4         4     991    9991      91      91        91   \n",
       "8        2         4         4     991    9991      91      91        91   \n",
       "9        2         4         4     991    9991      91      91        91   \n",
       "\n",
       "   cg30est  cig30av  cig30br2  cig30tpe  cig30men  cig30mln  cig30ro2  \\\n",
       "0       93       93      9993        93        93        93        93   \n",
       "1       93       93      9993        93        93        93        93   \n",
       "2       91       91      9991        91        91        91        91   \n",
       "3       91       91      9991        91        91        91        91   \n",
       "4       99        3       112         1         2         1         2   \n",
       "5       93       93      9993        93        93        93        93   \n",
       "6       93       93      9993        93        93        93        93   \n",
       "7       91       91      9991        91        91        91        91   \n",
       "8       91       91      9991        91        91        91        91   \n",
       "9       91       91      9991        91        91        91        91   \n",
       "\n",
       "   cigdlymo  cigage  cigdlyfu  cigdlmfu  cig100lf  \n",
       "0         2     999      9999        99         2  \n",
       "1         1      16      9999        99         1  \n",
       "2        91     991      9991        91        91  \n",
       "3        91     991      9991        91        91  \n",
       "4         1      18      9999        99         1  \n",
       "5         2     999      9999        99         1  \n",
       "6         2     999      9999        99         2  \n",
       "7        91     991      9991        91        91  \n",
       "8        91     991      9991        91        91  \n",
       "9        91     991      9991        91        91  "
      ]
     },
     "execution_count": 32,
     "metadata": {},
     "output_type": "execute_result"
    }
   ],
   "source": [
    "raw_data.iloc[:, 0:20].head(10)"
   ]
  },
  {
   "cell_type": "code",
   "execution_count": 19,
   "metadata": {},
   "outputs": [
    {
     "name": "stdout",
     "output_type": "stream",
     "text": [
      "278734\n"
     ]
    }
   ],
   "source": [
    "# find largest number of unique values in a column\n",
    "biggest = 0\n",
    "cols = []\n",
    "\n",
    "for col in raw_data.columns:\n",
    "    count = raw_data[col].nunique()\n",
    "    if count > biggest:\n",
    "        biggest = count\n",
    "        \n",
    "print(biggest)"
   ]
  },
  {
   "cell_type": "code",
   "execution_count": 25,
   "metadata": {},
   "outputs": [
    {
     "data": {
      "text/html": [
       "<div>\n",
       "<style scoped>\n",
       "    .dataframe tbody tr th:only-of-type {\n",
       "        vertical-align: middle;\n",
       "    }\n",
       "\n",
       "    .dataframe tbody tr th {\n",
       "        vertical-align: top;\n",
       "    }\n",
       "\n",
       "    .dataframe thead th {\n",
       "        text-align: right;\n",
       "    }\n",
       "</style>\n",
       "<table border=\"1\" class=\"dataframe\">\n",
       "  <thead>\n",
       "    <tr style=\"text-align: right;\">\n",
       "      <th></th>\n",
       "      <th>Column</th>\n",
       "      <th>UniqueValues</th>\n",
       "    </tr>\n",
       "  </thead>\n",
       "  <tbody>\n",
       "    <tr>\n",
       "      <th>0</th>\n",
       "      <td>cigever</td>\n",
       "      <td>2</td>\n",
       "    </tr>\n",
       "    <tr>\n",
       "      <th>1</th>\n",
       "      <td>cigofrsm</td>\n",
       "      <td>9</td>\n",
       "    </tr>\n",
       "    <tr>\n",
       "      <th>2</th>\n",
       "      <td>cigwilyr</td>\n",
       "      <td>10</td>\n",
       "    </tr>\n",
       "    <tr>\n",
       "      <th>3</th>\n",
       "      <td>cigtry</td>\n",
       "      <td>65</td>\n",
       "    </tr>\n",
       "    <tr>\n",
       "      <th>4</th>\n",
       "      <td>cigyfu</td>\n",
       "      <td>14</td>\n",
       "    </tr>\n",
       "    <tr>\n",
       "      <th>...</th>\n",
       "      <td>...</td>\n",
       "      <td>...</td>\n",
       "    </tr>\n",
       "    <tr>\n",
       "      <th>2807</th>\n",
       "      <td>opmedyr2</td>\n",
       "      <td>2</td>\n",
       "    </tr>\n",
       "    <tr>\n",
       "      <th>2808</th>\n",
       "      <td>alopmedyr</td>\n",
       "      <td>2</td>\n",
       "    </tr>\n",
       "    <tr>\n",
       "      <th>2809</th>\n",
       "      <td>kratflg</td>\n",
       "      <td>2</td>\n",
       "    </tr>\n",
       "    <tr>\n",
       "      <th>2810</th>\n",
       "      <td>kratyr</td>\n",
       "      <td>2</td>\n",
       "    </tr>\n",
       "    <tr>\n",
       "      <th>2811</th>\n",
       "      <td>kratmon</td>\n",
       "      <td>2</td>\n",
       "    </tr>\n",
       "  </tbody>\n",
       "</table>\n",
       "<p>2812 rows × 2 columns</p>\n",
       "</div>"
      ],
      "text/plain": [
       "         Column  UniqueValues\n",
       "0       cigever             2\n",
       "1      cigofrsm             9\n",
       "2      cigwilyr            10\n",
       "3        cigtry            65\n",
       "4        cigyfu            14\n",
       "...         ...           ...\n",
       "2807   opmedyr2             2\n",
       "2808  alopmedyr             2\n",
       "2809    kratflg             2\n",
       "2810     kratyr             2\n",
       "2811    kratmon             2\n",
       "\n",
       "[2812 rows x 2 columns]"
      ]
     },
     "execution_count": 25,
     "metadata": {},
     "output_type": "execute_result"
    }
   ],
   "source": [
    "df_unique = raw_data.nunique().reset_index()\n",
    "df_unique.columns = ['Column', 'UniqueValues']\n",
    "df_unique"
   ]
  },
  {
   "cell_type": "code",
   "execution_count": 33,
   "metadata": {},
   "outputs": [
    {
     "data": {
      "text/plain": [
       "count      2812.000000\n",
       "mean        116.279161\n",
       "std        5259.150939\n",
       "min           2.000000\n",
       "10%           2.000000\n",
       "20%           2.000000\n",
       "30%           3.000000\n",
       "40%           6.000000\n",
       "50%           7.000000\n",
       "60%           8.000000\n",
       "70%           9.000000\n",
       "80%          10.000000\n",
       "90%          21.900000\n",
       "99%         127.890000\n",
       "max      278734.000000\n",
       "Name: UniqueValues, dtype: float64"
      ]
     },
     "execution_count": 33,
     "metadata": {},
     "output_type": "execute_result"
    }
   ],
   "source": [
    "df_unique['UniqueValues'].describe(percentiles=[.1,.2,.3,.4,.5,.6,.7,.8,.9,.99])"
   ]
  },
  {
   "cell_type": "markdown",
   "metadata": {},
   "source": [
    "BMI is a continous variable with high cardinality. Is there a categorical variable that is similar?"
   ]
  },
  {
   "cell_type": "code",
   "execution_count": 37,
   "metadata": {},
   "outputs": [
    {
     "data": {
      "text/html": [
       "<div>\n",
       "<style scoped>\n",
       "    .dataframe tbody tr th:only-of-type {\n",
       "        vertical-align: middle;\n",
       "    }\n",
       "\n",
       "    .dataframe tbody tr th {\n",
       "        vertical-align: top;\n",
       "    }\n",
       "\n",
       "    .dataframe thead th {\n",
       "        text-align: right;\n",
       "    }\n",
       "</style>\n",
       "<table border=\"1\" class=\"dataframe\">\n",
       "  <thead>\n",
       "    <tr style=\"text-align: right;\">\n",
       "      <th></th>\n",
       "      <th>Column</th>\n",
       "      <th>UniqueValues</th>\n",
       "    </tr>\n",
       "  </thead>\n",
       "  <tbody>\n",
       "    <tr>\n",
       "      <th>3</th>\n",
       "      <td>cigtry</td>\n",
       "      <td>65</td>\n",
       "    </tr>\n",
       "    <tr>\n",
       "      <th>10</th>\n",
       "      <td>cig30br2</td>\n",
       "      <td>127</td>\n",
       "    </tr>\n",
       "    <tr>\n",
       "      <th>16</th>\n",
       "      <td>cigage</td>\n",
       "      <td>74</td>\n",
       "    </tr>\n",
       "    <tr>\n",
       "      <th>21</th>\n",
       "      <td>smklsstry</td>\n",
       "      <td>82</td>\n",
       "    </tr>\n",
       "    <tr>\n",
       "      <th>28</th>\n",
       "      <td>cigartry</td>\n",
       "      <td>83</td>\n",
       "    </tr>\n",
       "    <tr>\n",
       "      <th>...</th>\n",
       "      <td>...</td>\n",
       "      <td>...</td>\n",
       "    </tr>\n",
       "    <tr>\n",
       "      <th>2480</th>\n",
       "      <td>cabingage</td>\n",
       "      <td>91</td>\n",
       "    </tr>\n",
       "    <tr>\n",
       "      <th>2571</th>\n",
       "      <td>wrkdhrswk2</td>\n",
       "      <td>67</td>\n",
       "    </tr>\n",
       "    <tr>\n",
       "      <th>2580</th>\n",
       "      <td>wrknjbwks</td>\n",
       "      <td>57</td>\n",
       "    </tr>\n",
       "    <tr>\n",
       "      <th>2581</th>\n",
       "      <td>wrklastyr2</td>\n",
       "      <td>51</td>\n",
       "    </tr>\n",
       "    <tr>\n",
       "      <th>2674</th>\n",
       "      <td>analwt_c</td>\n",
       "      <td>278734</td>\n",
       "    </tr>\n",
       "  </tbody>\n",
       "</table>\n",
       "<p>145 rows × 2 columns</p>\n",
       "</div>"
      ],
      "text/plain": [
       "          Column  UniqueValues\n",
       "3         cigtry            65\n",
       "10      cig30br2           127\n",
       "16        cigage            74\n",
       "21     smklsstry            82\n",
       "28      cigartry            83\n",
       "...          ...           ...\n",
       "2480   cabingage            91\n",
       "2571  wrkdhrswk2            67\n",
       "2580   wrknjbwks            57\n",
       "2581  wrklastyr2            51\n",
       "2674    analwt_c        278734\n",
       "\n",
       "[145 rows x 2 columns]"
      ]
     },
     "execution_count": 37,
     "metadata": {},
     "output_type": "execute_result"
    }
   ],
   "source": [
    "df_unique.loc[df_unique['UniqueValues']>50]"
   ]
  },
  {
   "cell_type": "code",
   "execution_count": 29,
   "metadata": {},
   "outputs": [
    {
     "data": {
      "text/plain": [
       "array([     2,      9,     10,     65,     14,     19,     12,     36,\n",
       "           13,    127,      8,      7,     74,      5,     82,     15,\n",
       "            4,     83,     93,     77,    285,    203,     39,     66,\n",
       "           38,     87,    325,    204,     11,    137,      3,     64,\n",
       "           32,     91,     50,     25,     31,     63,     72,     33,\n",
       "            6,    240,    129,     84,     49,     70,    128,     37,\n",
       "           55,     62,    119,     46,     18,     61,     52,     30,\n",
       "           73,    154,     99,     35,     67,     21,     16,     43,\n",
       "           27,     23,     22,     53,     29,     20,     17,    287,\n",
       "          324,    126,    131,    130,    158,     41,     28,     34,\n",
       "           92,     90,     79,     78,     89,     76,     58,     60,\n",
       "           51,     59,     56,     57,     80,     69,    185,    298,\n",
       "           81,    147,     24,     45,    125,    620,     97,     88,\n",
       "           95,    105,     47,     44,    225,    102,     98,   5637,\n",
       "           26,     48,    317,   7717,    227,    265,    179,    226,\n",
       "       278734], dtype=int64)"
      ]
     },
     "execution_count": 29,
     "metadata": {},
     "output_type": "execute_result"
    }
   ],
   "source": [
    "df_unique['UniqueValues'].unique()"
   ]
  },
  {
   "cell_type": "code",
   "execution_count": 27,
   "metadata": {},
   "outputs": [
    {
     "data": {
      "text/html": [
       "<div>\n",
       "<style scoped>\n",
       "    .dataframe tbody tr th:only-of-type {\n",
       "        vertical-align: middle;\n",
       "    }\n",
       "\n",
       "    .dataframe tbody tr th {\n",
       "        vertical-align: top;\n",
       "    }\n",
       "\n",
       "    .dataframe thead th {\n",
       "        text-align: right;\n",
       "    }\n",
       "</style>\n",
       "<table border=\"1\" class=\"dataframe\">\n",
       "  <thead>\n",
       "    <tr style=\"text-align: right;\">\n",
       "      <th></th>\n",
       "      <th>Column</th>\n",
       "      <th>UniqueValues</th>\n",
       "    </tr>\n",
       "  </thead>\n",
       "  <tbody>\n",
       "    <tr>\n",
       "      <th>2674</th>\n",
       "      <td>analwt_c</td>\n",
       "      <td>278734</td>\n",
       "    </tr>\n",
       "  </tbody>\n",
       "</table>\n",
       "</div>"
      ],
      "text/plain": [
       "        Column  UniqueValues\n",
       "2674  analwt_c        278734"
      ]
     },
     "execution_count": 27,
     "metadata": {},
     "output_type": "execute_result"
    }
   ],
   "source": [
    "df_unique.loc[df_unique['UniqueValues']==278734]"
   ]
  },
  {
   "cell_type": "code",
   "execution_count": 21,
   "metadata": {},
   "outputs": [
    {
     "data": {
      "text/plain": [
       "(0, 2812)"
      ]
     },
     "execution_count": 21,
     "metadata": {},
     "output_type": "execute_result"
    }
   ],
   "source": [
    "raw_data.dropna().shape"
   ]
  },
  {
   "cell_type": "code",
   "execution_count": 17,
   "metadata": {},
   "outputs": [
    {
     "data": {
      "text/plain": [
       "snrlgimp\n",
       "3     71465\n",
       "99    68261\n",
       "4     66765\n",
       "1     41368\n",
       "2     30544\n",
       "97     2350\n",
       "94     1918\n",
       "98       65\n",
       "85       30\n",
       "89        2\n",
       "Name: count, dtype: int64"
      ]
     },
     "execution_count": 17,
     "metadata": {},
     "output_type": "execute_result"
    }
   ],
   "source": [
    "df2['snrlgimp'].value_counts()"
   ]
  },
  {
   "cell_type": "markdown",
   "metadata": {},
   "source": [
    "Here we do an initial inspection of the working dataframe to notice its structure:"
   ]
  },
  {
   "cell_type": "code",
   "execution_count": 201,
   "metadata": {},
   "outputs": [
    {
     "name": "stdout",
     "output_type": "stream",
     "text": [
      "<class 'pandas.core.frame.DataFrame'>\n",
      "RangeIndex: 282768 entries, 0 to 282767\n",
      "Data columns (total 20 columns):\n",
      " #   Column      Non-Null Count   Dtype  \n",
      "---  ------      --------------   -----  \n",
      " 0   amhtxrc3    213140 non-null  float64\n",
      " 1   illyr       282768 non-null  int64  \n",
      " 2   bngdrkmon   282768 non-null  int64  \n",
      " 3   hvydrkmon   282768 non-null  int64  \n",
      " 4   snysell     282768 non-null  int64  \n",
      " 5   snrlgsvc    282768 non-null  int64  \n",
      " 6   snrlgimp    282768 non-null  int64  \n",
      " 7   sexident    282768 non-null  int64  \n",
      " 8   irsex       282768 non-null  int64  \n",
      " 9   eduhighcat  282768 non-null  int64  \n",
      " 10  health2     282713 non-null  float64\n",
      " 11  newrace2    282768 non-null  int64  \n",
      " 12  catag3      282768 non-null  int64  \n",
      " 13  wrkdpstyr   282768 non-null  int64  \n",
      " 14  irwrkstat   282768 non-null  int64  \n",
      " 15  income      282768 non-null  int64  \n",
      " 16  poverty3    280578 non-null  float64\n",
      " 17  medicare    282768 non-null  int64  \n",
      " 18  caidchip    282768 non-null  int64  \n",
      " 19  champus     282768 non-null  int64  \n",
      "dtypes: float64(3), int64(17)\n",
      "memory usage: 43.1 MB\n"
     ]
    }
   ],
   "source": [
    "df1.info()"
   ]
  },
  {
   "cell_type": "markdown",
   "metadata": {},
   "source": [
    "Some of the features have multiple levels of category according to the codebook. This includes levels that are not useful to the analysis. The following is one example, followed by the dropping of those levels in the various features:"
   ]
  },
  {
   "cell_type": "code",
   "execution_count": 202,
   "metadata": {},
   "outputs": [
    {
     "name": "stdout",
     "output_type": "stream",
     "text": [
      "            amhtxrc3          illyr      bngdrkmon      hvydrkmon  \\\n",
      "count  213140.000000  282768.000000  282768.000000  282768.000000   \n",
      "mean        1.840790       0.235522       0.249017       0.062008   \n",
      "std         0.365873       0.424325       0.432444       0.241171   \n",
      "min         1.000000       0.000000       0.000000       0.000000   \n",
      "25%         2.000000       0.000000       0.000000       0.000000   \n",
      "50%         2.000000       0.000000       0.000000       0.000000   \n",
      "75%         2.000000       0.000000       0.000000       0.000000   \n",
      "max         2.000000       1.000000       1.000000       1.000000   \n",
      "\n",
      "             snysell       snrlgsvc       snrlgimp       sexident  \\\n",
      "count  282768.000000  282768.000000  282768.000000  282768.000000   \n",
      "mean       25.024200      26.566963      27.439774      26.128498   \n",
      "std        42.104799      41.645870      41.962421      42.641689   \n",
      "min         1.000000       1.000000       1.000000       1.000000   \n",
      "25%         1.000000       1.000000       2.000000       1.000000   \n",
      "50%         1.000000       4.000000       3.000000       1.000000   \n",
      "75%         4.000000       6.000000      94.000000      97.000000   \n",
      "max        99.000000      99.000000      99.000000      99.000000   \n",
      "\n",
      "               irsex     eduhighcat        health2       newrace2  \\\n",
      "count  282768.000000  282768.000000  282713.000000  282768.000000   \n",
      "mean        1.523790       3.287759       2.202626       2.659219   \n",
      "std         0.499435       1.297072       0.930392       2.417215   \n",
      "min         1.000000       1.000000       1.000000       1.000000   \n",
      "25%         1.000000       2.000000       1.000000       1.000000   \n",
      "50%         2.000000       3.000000       2.000000       1.000000   \n",
      "75%         2.000000       4.000000       3.000000       5.000000   \n",
      "max         2.000000       5.000000       4.000000       7.000000   \n",
      "\n",
      "              catag3      wrkdpstyr      irwrkstat         income  \\\n",
      "count  282768.000000  282768.000000  282768.000000  282768.000000   \n",
      "mean        2.781227      67.535145      13.649391       2.663760   \n",
      "std         1.409823      45.479592      31.247084       1.141592   \n",
      "min         1.000000       1.000000       1.000000       1.000000   \n",
      "25%         2.000000       2.000000       1.000000       2.000000   \n",
      "50%         3.000000      99.000000       2.000000       3.000000   \n",
      "75%         4.000000      99.000000       4.000000       4.000000   \n",
      "max         5.000000      99.000000      99.000000       4.000000   \n",
      "\n",
      "            poverty3       medicare       caidchip        champus  \n",
      "count  280578.000000  282768.000000  282768.000000  282768.000000  \n",
      "mean        2.399386       2.299836       2.508650       2.187206  \n",
      "std         0.788840       5.967697       8.226289       4.586924  \n",
      "min         1.000000       1.000000       1.000000       1.000000  \n",
      "25%         2.000000       2.000000       2.000000       2.000000  \n",
      "50%         3.000000       2.000000       2.000000       2.000000  \n",
      "75%         3.000000       2.000000       2.000000       2.000000  \n",
      "max         3.000000      98.000000      98.000000      98.000000  \n"
     ]
    }
   ],
   "source": [
    "print(df1.describe(include='all'))"
   ]
  },
  {
   "cell_type": "code",
   "execution_count": 203,
   "metadata": {},
   "outputs": [
    {
     "data": {
      "text/plain": [
       "amhtxrc3\n",
       "2.0    179206\n",
       "1.0     33934\n",
       "Name: count, dtype: int64"
      ]
     },
     "execution_count": 203,
     "metadata": {},
     "output_type": "execute_result"
    }
   ],
   "source": [
    "df1['amhtxrc3'].value_counts()"
   ]
  },
  {
   "cell_type": "code",
   "execution_count": 204,
   "metadata": {},
   "outputs": [
    {
     "data": {
      "text/plain": [
       "snysell\n",
       "1     209113\n",
       "99     68261\n",
       "2       2110\n",
       "5       1339\n",
       "3        619\n",
       "97       568\n",
       "4        331\n",
       "94       310\n",
       "98        62\n",
       "85        53\n",
       "89         2\n",
       "Name: count, dtype: int64"
      ]
     },
     "execution_count": 204,
     "metadata": {},
     "output_type": "execute_result"
    }
   ],
   "source": [
    "# check distribution of bad values\n",
    "df1['snysell'].value_counts()"
   ]
  },
  {
   "cell_type": "code",
   "execution_count": 205,
   "metadata": {},
   "outputs": [],
   "source": [
    "# drop bad data from columns\n",
    "df1 = df1[df1['snysell'].isin([1, 2, 3, 4, 5])]\n",
    "df1 = df1[df1['snrlgsvc'].isin([1, 2, 3, 4, 5, 6])]\n",
    "df1 = df1[df1['snrlgimp'].isin([1, 2, 3, 4])]\n",
    "df1 = df1[df1['sexident'].isin([1, 2, 3])]\n",
    "df1 = df1[df1['health2'].isin([1, 2, 3, 4])]\n",
    "df1 = df1[df1['irwrkstat'].isin([1, 2, 3])]\n",
    "df1 = df1[df1['medicare'].isin([1, 2])]\n",
    "df1 = df1[df1['caidchip'].isin([1, 2])]\n",
    "df1 = df1[df1['champus'].isin([1, 2])]"
   ]
  },
  {
   "cell_type": "markdown",
   "metadata": {},
   "source": [
    "We can do another inspection here. It is noticeable that the number of rows has decreased since we have removed bad data, but it also seems like we have null values. We will attend to this next."
   ]
  },
  {
   "cell_type": "code",
   "execution_count": 206,
   "metadata": {},
   "outputs": [
    {
     "name": "stdout",
     "output_type": "stream",
     "text": [
      "<class 'pandas.core.frame.DataFrame'>\n",
      "Index: 152206 entries, 1 to 282764\n",
      "Data columns (total 20 columns):\n",
      " #   Column      Non-Null Count   Dtype  \n",
      "---  ------      --------------   -----  \n",
      " 0   amhtxrc3    151930 non-null  float64\n",
      " 1   illyr       152206 non-null  int64  \n",
      " 2   bngdrkmon   152206 non-null  int64  \n",
      " 3   hvydrkmon   152206 non-null  int64  \n",
      " 4   snysell     152206 non-null  int64  \n",
      " 5   snrlgsvc    152206 non-null  int64  \n",
      " 6   snrlgimp    152206 non-null  int64  \n",
      " 7   sexident    152206 non-null  int64  \n",
      " 8   irsex       152206 non-null  int64  \n",
      " 9   eduhighcat  152206 non-null  int64  \n",
      " 10  health2     152206 non-null  float64\n",
      " 11  newrace2    152206 non-null  int64  \n",
      " 12  catag3      152206 non-null  int64  \n",
      " 13  wrkdpstyr   152206 non-null  int64  \n",
      " 14  irwrkstat   152206 non-null  int64  \n",
      " 15  income      152206 non-null  int64  \n",
      " 16  poverty3    151154 non-null  float64\n",
      " 17  medicare    152206 non-null  int64  \n",
      " 18  caidchip    152206 non-null  int64  \n",
      " 19  champus     152206 non-null  int64  \n",
      "dtypes: float64(3), int64(17)\n",
      "memory usage: 24.4 MB\n"
     ]
    }
   ],
   "source": [
    "df1.info()"
   ]
  },
  {
   "cell_type": "markdown",
   "metadata": {},
   "source": [
    "### Check for null values"
   ]
  },
  {
   "cell_type": "markdown",
   "metadata": {},
   "source": [
    "Two columns contain null values, or NAs, in the data: AMHTXRC3 and POVERTY3. As they represent a small percentage of the total, we will drop these from the data and observe that the NAs are now gone:"
   ]
  },
  {
   "cell_type": "code",
   "execution_count": 207,
   "metadata": {},
   "outputs": [
    {
     "data": {
      "text/html": [
       "<div>\n",
       "<style scoped>\n",
       "    .dataframe tbody tr th:only-of-type {\n",
       "        vertical-align: middle;\n",
       "    }\n",
       "\n",
       "    .dataframe tbody tr th {\n",
       "        vertical-align: top;\n",
       "    }\n",
       "\n",
       "    .dataframe thead th {\n",
       "        text-align: right;\n",
       "    }\n",
       "</style>\n",
       "<table border=\"1\" class=\"dataframe\">\n",
       "  <thead>\n",
       "    <tr style=\"text-align: right;\">\n",
       "      <th></th>\n",
       "      <th>0</th>\n",
       "    </tr>\n",
       "  </thead>\n",
       "  <tbody>\n",
       "    <tr>\n",
       "      <th>amhtxrc3</th>\n",
       "      <td>276</td>\n",
       "    </tr>\n",
       "    <tr>\n",
       "      <th>illyr</th>\n",
       "      <td>0</td>\n",
       "    </tr>\n",
       "    <tr>\n",
       "      <th>bngdrkmon</th>\n",
       "      <td>0</td>\n",
       "    </tr>\n",
       "    <tr>\n",
       "      <th>hvydrkmon</th>\n",
       "      <td>0</td>\n",
       "    </tr>\n",
       "    <tr>\n",
       "      <th>snysell</th>\n",
       "      <td>0</td>\n",
       "    </tr>\n",
       "    <tr>\n",
       "      <th>snrlgsvc</th>\n",
       "      <td>0</td>\n",
       "    </tr>\n",
       "    <tr>\n",
       "      <th>snrlgimp</th>\n",
       "      <td>0</td>\n",
       "    </tr>\n",
       "    <tr>\n",
       "      <th>sexident</th>\n",
       "      <td>0</td>\n",
       "    </tr>\n",
       "    <tr>\n",
       "      <th>irsex</th>\n",
       "      <td>0</td>\n",
       "    </tr>\n",
       "    <tr>\n",
       "      <th>eduhighcat</th>\n",
       "      <td>0</td>\n",
       "    </tr>\n",
       "    <tr>\n",
       "      <th>health2</th>\n",
       "      <td>0</td>\n",
       "    </tr>\n",
       "    <tr>\n",
       "      <th>newrace2</th>\n",
       "      <td>0</td>\n",
       "    </tr>\n",
       "    <tr>\n",
       "      <th>catag3</th>\n",
       "      <td>0</td>\n",
       "    </tr>\n",
       "    <tr>\n",
       "      <th>wrkdpstyr</th>\n",
       "      <td>0</td>\n",
       "    </tr>\n",
       "    <tr>\n",
       "      <th>irwrkstat</th>\n",
       "      <td>0</td>\n",
       "    </tr>\n",
       "    <tr>\n",
       "      <th>income</th>\n",
       "      <td>0</td>\n",
       "    </tr>\n",
       "    <tr>\n",
       "      <th>poverty3</th>\n",
       "      <td>1052</td>\n",
       "    </tr>\n",
       "    <tr>\n",
       "      <th>medicare</th>\n",
       "      <td>0</td>\n",
       "    </tr>\n",
       "    <tr>\n",
       "      <th>caidchip</th>\n",
       "      <td>0</td>\n",
       "    </tr>\n",
       "    <tr>\n",
       "      <th>champus</th>\n",
       "      <td>0</td>\n",
       "    </tr>\n",
       "  </tbody>\n",
       "</table>\n",
       "</div>"
      ],
      "text/plain": [
       "               0\n",
       "amhtxrc3     276\n",
       "illyr          0\n",
       "bngdrkmon      0\n",
       "hvydrkmon      0\n",
       "snysell        0\n",
       "snrlgsvc       0\n",
       "snrlgimp       0\n",
       "sexident       0\n",
       "irsex          0\n",
       "eduhighcat     0\n",
       "health2        0\n",
       "newrace2       0\n",
       "catag3         0\n",
       "wrkdpstyr      0\n",
       "irwrkstat      0\n",
       "income         0\n",
       "poverty3    1052\n",
       "medicare       0\n",
       "caidchip       0\n",
       "champus        0"
      ]
     },
     "execution_count": 207,
     "metadata": {},
     "output_type": "execute_result"
    }
   ],
   "source": [
    "# check for null values\n",
    "pd.DataFrame(df1.isnull().sum())"
   ]
  },
  {
   "cell_type": "code",
   "execution_count": 208,
   "metadata": {},
   "outputs": [],
   "source": [
    "# drop null values\n",
    "df1 = df1.dropna()"
   ]
  },
  {
   "cell_type": "code",
   "execution_count": 209,
   "metadata": {},
   "outputs": [
    {
     "data": {
      "text/html": [
       "<div>\n",
       "<style scoped>\n",
       "    .dataframe tbody tr th:only-of-type {\n",
       "        vertical-align: middle;\n",
       "    }\n",
       "\n",
       "    .dataframe tbody tr th {\n",
       "        vertical-align: top;\n",
       "    }\n",
       "\n",
       "    .dataframe thead th {\n",
       "        text-align: right;\n",
       "    }\n",
       "</style>\n",
       "<table border=\"1\" class=\"dataframe\">\n",
       "  <thead>\n",
       "    <tr style=\"text-align: right;\">\n",
       "      <th></th>\n",
       "      <th>0</th>\n",
       "    </tr>\n",
       "  </thead>\n",
       "  <tbody>\n",
       "    <tr>\n",
       "      <th>amhtxrc3</th>\n",
       "      <td>0</td>\n",
       "    </tr>\n",
       "    <tr>\n",
       "      <th>illyr</th>\n",
       "      <td>0</td>\n",
       "    </tr>\n",
       "    <tr>\n",
       "      <th>bngdrkmon</th>\n",
       "      <td>0</td>\n",
       "    </tr>\n",
       "    <tr>\n",
       "      <th>hvydrkmon</th>\n",
       "      <td>0</td>\n",
       "    </tr>\n",
       "    <tr>\n",
       "      <th>snysell</th>\n",
       "      <td>0</td>\n",
       "    </tr>\n",
       "    <tr>\n",
       "      <th>snrlgsvc</th>\n",
       "      <td>0</td>\n",
       "    </tr>\n",
       "    <tr>\n",
       "      <th>snrlgimp</th>\n",
       "      <td>0</td>\n",
       "    </tr>\n",
       "    <tr>\n",
       "      <th>sexident</th>\n",
       "      <td>0</td>\n",
       "    </tr>\n",
       "    <tr>\n",
       "      <th>irsex</th>\n",
       "      <td>0</td>\n",
       "    </tr>\n",
       "    <tr>\n",
       "      <th>eduhighcat</th>\n",
       "      <td>0</td>\n",
       "    </tr>\n",
       "    <tr>\n",
       "      <th>health2</th>\n",
       "      <td>0</td>\n",
       "    </tr>\n",
       "    <tr>\n",
       "      <th>newrace2</th>\n",
       "      <td>0</td>\n",
       "    </tr>\n",
       "    <tr>\n",
       "      <th>catag3</th>\n",
       "      <td>0</td>\n",
       "    </tr>\n",
       "    <tr>\n",
       "      <th>wrkdpstyr</th>\n",
       "      <td>0</td>\n",
       "    </tr>\n",
       "    <tr>\n",
       "      <th>irwrkstat</th>\n",
       "      <td>0</td>\n",
       "    </tr>\n",
       "    <tr>\n",
       "      <th>income</th>\n",
       "      <td>0</td>\n",
       "    </tr>\n",
       "    <tr>\n",
       "      <th>poverty3</th>\n",
       "      <td>0</td>\n",
       "    </tr>\n",
       "    <tr>\n",
       "      <th>medicare</th>\n",
       "      <td>0</td>\n",
       "    </tr>\n",
       "    <tr>\n",
       "      <th>caidchip</th>\n",
       "      <td>0</td>\n",
       "    </tr>\n",
       "    <tr>\n",
       "      <th>champus</th>\n",
       "      <td>0</td>\n",
       "    </tr>\n",
       "  </tbody>\n",
       "</table>\n",
       "</div>"
      ],
      "text/plain": [
       "            0\n",
       "amhtxrc3    0\n",
       "illyr       0\n",
       "bngdrkmon   0\n",
       "hvydrkmon   0\n",
       "snysell     0\n",
       "snrlgsvc    0\n",
       "snrlgimp    0\n",
       "sexident    0\n",
       "irsex       0\n",
       "eduhighcat  0\n",
       "health2     0\n",
       "newrace2    0\n",
       "catag3      0\n",
       "wrkdpstyr   0\n",
       "irwrkstat   0\n",
       "income      0\n",
       "poverty3    0\n",
       "medicare    0\n",
       "caidchip    0\n",
       "champus     0"
      ]
     },
     "execution_count": 209,
     "metadata": {},
     "output_type": "execute_result"
    }
   ],
   "source": [
    "pd.DataFrame(df1.isnull().sum())"
   ]
  },
  {
   "cell_type": "markdown",
   "metadata": {},
   "source": [
    "## Build the model\n",
    "\n",
    "### Decision Trees\n",
    "Decision trees work similarly to how its namesake is structured. We begin with one main branch and then split into sub-branches at each feature in the decision tree. \n",
    "\n",
    "### Random Forest Classifier\n",
    "The random forest classifier operates with an ensemble of decision trees, each sampling a number of features present in a set of predictor variables. Each decision tree then calculates a prediction for the outcome variable and the prediction with the greatest number becomes the model's main prediction. "
   ]
  },
  {
   "cell_type": "markdown",
   "metadata": {},
   "source": [
    "The random forest classifier must take the dependent variable as a binary outcome, 0's and 1's; hence, we will recode the values appropriately. Then we prepare the data set for our model by splitting it into a features component and outcome component (X and y). "
   ]
  },
  {
   "cell_type": "code",
   "execution_count": 210,
   "metadata": {},
   "outputs": [
    {
     "name": "stderr",
     "output_type": "stream",
     "text": [
      "C:\\Users\\elote\\AppData\\Local\\Temp\\ipykernel_2652\\4076239563.py:1: FutureWarning: A value is trying to be set on a copy of a DataFrame or Series through chained assignment using an inplace method.\n",
      "The behavior will change in pandas 3.0. This inplace method will never work because the intermediate object on which we are setting values always behaves as a copy.\n",
      "\n",
      "For example, when doing 'df[col].method(value, inplace=True)', try using 'df.method({col: value}, inplace=True)' or df[col] = df[col].method(value) instead, to perform the operation inplace on the original object.\n",
      "\n",
      "\n",
      "  df1['amhtxrc3'].replace({2.0: 0, 1.0: 1}, inplace=True)\n"
     ]
    }
   ],
   "source": [
    "df1['amhtxrc3'].replace({2.0: 0, 1.0: 1}, inplace=True)"
   ]
  },
  {
   "cell_type": "code",
   "execution_count": 211,
   "metadata": {},
   "outputs": [],
   "source": [
    "# Split into X and y\n",
    "X = df1.drop('amhtxrc3', axis=1)\n",
    "y = df1.pop('amhtxrc3')"
   ]
  },
  {
   "cell_type": "markdown",
   "metadata": {},
   "source": [
    "Encode the variables as 'category' datatype since they are categorical, not numerical, for proper interpretation by the model:"
   ]
  },
  {
   "cell_type": "code",
   "execution_count": 212,
   "metadata": {},
   "outputs": [],
   "source": [
    "# Encode categorical data for predictors as 'category' dtype\n",
    "col_names = list(X)\n",
    "\n",
    "for col in col_names:\n",
    "    X[col] = X[col].astype('category', copy=False)"
   ]
  },
  {
   "cell_type": "code",
   "execution_count": 213,
   "metadata": {},
   "outputs": [
    {
     "data": {
      "text/plain": [
       "illyr         category\n",
       "bngdrkmon     category\n",
       "hvydrkmon     category\n",
       "snysell       category\n",
       "snrlgsvc      category\n",
       "snrlgimp      category\n",
       "sexident      category\n",
       "irsex         category\n",
       "eduhighcat    category\n",
       "health2       category\n",
       "newrace2      category\n",
       "catag3        category\n",
       "wrkdpstyr     category\n",
       "irwrkstat     category\n",
       "income        category\n",
       "poverty3      category\n",
       "medicare      category\n",
       "caidchip      category\n",
       "champus       category\n",
       "dtype: object"
      ]
     },
     "execution_count": 213,
     "metadata": {},
     "output_type": "execute_result"
    }
   ],
   "source": [
    "# verify types\n",
    "X.dtypes"
   ]
  },
  {
   "cell_type": "markdown",
   "metadata": {},
   "source": [
    "We will create our train/test split using a 80/20 ratio and saving the seed state for reproducibility:"
   ]
  },
  {
   "cell_type": "code",
   "execution_count": 214,
   "metadata": {},
   "outputs": [],
   "source": [
    "# Create train/test split\n",
    "seed = 10\n",
    "X_train, X_test, y_train, y_test = train_test_split(X, y, test_size=0.3, random_state=seed)"
   ]
  },
  {
   "cell_type": "markdown",
   "metadata": {},
   "source": [
    "The following code will process the depended variables through a one hot encoding function, splitting up the various levels in each feature to create binary measures. This will ensure proper handling and interpretability for our random forest model. The constructor below takes in both numerical and categorical data types in order to properly do the one hot encoding; however, as our model includes only categorical features, they will all pass into the encoder:"
   ]
  },
  {
   "cell_type": "code",
   "execution_count": 216,
   "metadata": {},
   "outputs": [],
   "source": [
    "# Identify categorical features\n",
    "enc_feat = X_train.columns[X_train.dtypes == 'category'].tolist() "
   ]
  },
  {
   "cell_type": "markdown",
   "metadata": {},
   "source": [
    "Here we define the random forest classifier along with its hyperparameters. \n",
    "\n",
    "We will make use of the pipeline feature of sklearn to perform the needed encoding, transformation, and classification of our train/test split data. It is a convenient way to reuse code in a concise manner for when multiple model fittings will be performed. Here we do that and also generate our test predictions for assessing the model performance:"
   ]
  },
  {
   "cell_type": "code",
   "execution_count": 227,
   "metadata": {},
   "outputs": [
    {
     "ename": "KeyboardInterrupt",
     "evalue": "",
     "output_type": "error",
     "traceback": [
      "\u001b[1;31m---------------------------------------------------------------------------\u001b[0m",
      "\u001b[1;31mKeyboardInterrupt\u001b[0m                         Traceback (most recent call last)",
      "Cell \u001b[1;32mIn[227], line 32\u001b[0m\n\u001b[0;32m     26\u001b[0m pipe \u001b[38;5;241m=\u001b[39m Pipeline([\n\u001b[0;32m     27\u001b[0m     (\u001b[38;5;124m'\u001b[39m\u001b[38;5;124mpreprocessor\u001b[39m\u001b[38;5;124m'\u001b[39m, preprocessor),\n\u001b[0;32m     28\u001b[0m     (\u001b[38;5;124m'\u001b[39m\u001b[38;5;124mclassifier\u001b[39m\u001b[38;5;124m'\u001b[39m, classifier)\n\u001b[0;32m     29\u001b[0m ])\n\u001b[0;32m     31\u001b[0m \u001b[38;5;66;03m# Fit the pipeline\u001b[39;00m\n\u001b[1;32m---> 32\u001b[0m \u001b[43mpipe\u001b[49m\u001b[38;5;241;43m.\u001b[39;49m\u001b[43mfit\u001b[49m\u001b[43m(\u001b[49m\u001b[43mX_train\u001b[49m\u001b[43m,\u001b[49m\u001b[43m \u001b[49m\u001b[43my_train\u001b[49m\u001b[43m)\u001b[49m\n\u001b[0;32m     34\u001b[0m \u001b[38;5;66;03m# Generate predictions on the test set\u001b[39;00m\n\u001b[0;32m     35\u001b[0m y_pred \u001b[38;5;241m=\u001b[39m pipe\u001b[38;5;241m.\u001b[39mpredict(X_test)\n",
      "File \u001b[1;32mc:\\Users\\elote\\miniconda3\\envs\\datasciml\\Lib\\site-packages\\sklearn\\base.py:1473\u001b[0m, in \u001b[0;36m_fit_context.<locals>.decorator.<locals>.wrapper\u001b[1;34m(estimator, *args, **kwargs)\u001b[0m\n\u001b[0;32m   1466\u001b[0m     estimator\u001b[38;5;241m.\u001b[39m_validate_params()\n\u001b[0;32m   1468\u001b[0m \u001b[38;5;28;01mwith\u001b[39;00m config_context(\n\u001b[0;32m   1469\u001b[0m     skip_parameter_validation\u001b[38;5;241m=\u001b[39m(\n\u001b[0;32m   1470\u001b[0m         prefer_skip_nested_validation \u001b[38;5;129;01mor\u001b[39;00m global_skip_validation\n\u001b[0;32m   1471\u001b[0m     )\n\u001b[0;32m   1472\u001b[0m ):\n\u001b[1;32m-> 1473\u001b[0m     \u001b[38;5;28;01mreturn\u001b[39;00m \u001b[43mfit_method\u001b[49m\u001b[43m(\u001b[49m\u001b[43mestimator\u001b[49m\u001b[43m,\u001b[49m\u001b[43m \u001b[49m\u001b[38;5;241;43m*\u001b[39;49m\u001b[43margs\u001b[49m\u001b[43m,\u001b[49m\u001b[43m \u001b[49m\u001b[38;5;241;43m*\u001b[39;49m\u001b[38;5;241;43m*\u001b[39;49m\u001b[43mkwargs\u001b[49m\u001b[43m)\u001b[49m\n",
      "File \u001b[1;32mc:\\Users\\elote\\miniconda3\\envs\\datasciml\\Lib\\site-packages\\sklearn\\pipeline.py:473\u001b[0m, in \u001b[0;36mPipeline.fit\u001b[1;34m(self, X, y, **params)\u001b[0m\n\u001b[0;32m    471\u001b[0m     \u001b[38;5;28;01mif\u001b[39;00m \u001b[38;5;28mself\u001b[39m\u001b[38;5;241m.\u001b[39m_final_estimator \u001b[38;5;241m!=\u001b[39m \u001b[38;5;124m\"\u001b[39m\u001b[38;5;124mpassthrough\u001b[39m\u001b[38;5;124m\"\u001b[39m:\n\u001b[0;32m    472\u001b[0m         last_step_params \u001b[38;5;241m=\u001b[39m routed_params[\u001b[38;5;28mself\u001b[39m\u001b[38;5;241m.\u001b[39msteps[\u001b[38;5;241m-\u001b[39m\u001b[38;5;241m1\u001b[39m][\u001b[38;5;241m0\u001b[39m]]\n\u001b[1;32m--> 473\u001b[0m         \u001b[38;5;28;43mself\u001b[39;49m\u001b[38;5;241;43m.\u001b[39;49m\u001b[43m_final_estimator\u001b[49m\u001b[38;5;241;43m.\u001b[39;49m\u001b[43mfit\u001b[49m\u001b[43m(\u001b[49m\u001b[43mXt\u001b[49m\u001b[43m,\u001b[49m\u001b[43m \u001b[49m\u001b[43my\u001b[49m\u001b[43m,\u001b[49m\u001b[43m \u001b[49m\u001b[38;5;241;43m*\u001b[39;49m\u001b[38;5;241;43m*\u001b[39;49m\u001b[43mlast_step_params\u001b[49m\u001b[43m[\u001b[49m\u001b[38;5;124;43m\"\u001b[39;49m\u001b[38;5;124;43mfit\u001b[39;49m\u001b[38;5;124;43m\"\u001b[39;49m\u001b[43m]\u001b[49m\u001b[43m)\u001b[49m\n\u001b[0;32m    475\u001b[0m \u001b[38;5;28;01mreturn\u001b[39;00m \u001b[38;5;28mself\u001b[39m\n",
      "File \u001b[1;32mc:\\Users\\elote\\miniconda3\\envs\\datasciml\\Lib\\site-packages\\sklearn\\base.py:1473\u001b[0m, in \u001b[0;36m_fit_context.<locals>.decorator.<locals>.wrapper\u001b[1;34m(estimator, *args, **kwargs)\u001b[0m\n\u001b[0;32m   1466\u001b[0m     estimator\u001b[38;5;241m.\u001b[39m_validate_params()\n\u001b[0;32m   1468\u001b[0m \u001b[38;5;28;01mwith\u001b[39;00m config_context(\n\u001b[0;32m   1469\u001b[0m     skip_parameter_validation\u001b[38;5;241m=\u001b[39m(\n\u001b[0;32m   1470\u001b[0m         prefer_skip_nested_validation \u001b[38;5;129;01mor\u001b[39;00m global_skip_validation\n\u001b[0;32m   1471\u001b[0m     )\n\u001b[0;32m   1472\u001b[0m ):\n\u001b[1;32m-> 1473\u001b[0m     \u001b[38;5;28;01mreturn\u001b[39;00m \u001b[43mfit_method\u001b[49m\u001b[43m(\u001b[49m\u001b[43mestimator\u001b[49m\u001b[43m,\u001b[49m\u001b[43m \u001b[49m\u001b[38;5;241;43m*\u001b[39;49m\u001b[43margs\u001b[49m\u001b[43m,\u001b[49m\u001b[43m \u001b[49m\u001b[38;5;241;43m*\u001b[39;49m\u001b[38;5;241;43m*\u001b[39;49m\u001b[43mkwargs\u001b[49m\u001b[43m)\u001b[49m\n",
      "File \u001b[1;32mc:\\Users\\elote\\miniconda3\\envs\\datasciml\\Lib\\site-packages\\sklearn\\ensemble\\_forest.py:489\u001b[0m, in \u001b[0;36mBaseForest.fit\u001b[1;34m(self, X, y, sample_weight)\u001b[0m\n\u001b[0;32m    478\u001b[0m trees \u001b[38;5;241m=\u001b[39m [\n\u001b[0;32m    479\u001b[0m     \u001b[38;5;28mself\u001b[39m\u001b[38;5;241m.\u001b[39m_make_estimator(append\u001b[38;5;241m=\u001b[39m\u001b[38;5;28;01mFalse\u001b[39;00m, random_state\u001b[38;5;241m=\u001b[39mrandom_state)\n\u001b[0;32m    480\u001b[0m     \u001b[38;5;28;01mfor\u001b[39;00m i \u001b[38;5;129;01min\u001b[39;00m \u001b[38;5;28mrange\u001b[39m(n_more_estimators)\n\u001b[0;32m    481\u001b[0m ]\n\u001b[0;32m    483\u001b[0m \u001b[38;5;66;03m# Parallel loop: we prefer the threading backend as the Cython code\u001b[39;00m\n\u001b[0;32m    484\u001b[0m \u001b[38;5;66;03m# for fitting the trees is internally releasing the Python GIL\u001b[39;00m\n\u001b[0;32m    485\u001b[0m \u001b[38;5;66;03m# making threading more efficient than multiprocessing in\u001b[39;00m\n\u001b[0;32m    486\u001b[0m \u001b[38;5;66;03m# that case. However, for joblib 0.12+ we respect any\u001b[39;00m\n\u001b[0;32m    487\u001b[0m \u001b[38;5;66;03m# parallel_backend contexts set at a higher level,\u001b[39;00m\n\u001b[0;32m    488\u001b[0m \u001b[38;5;66;03m# since correctness does not rely on using threads.\u001b[39;00m\n\u001b[1;32m--> 489\u001b[0m trees \u001b[38;5;241m=\u001b[39m \u001b[43mParallel\u001b[49m\u001b[43m(\u001b[49m\n\u001b[0;32m    490\u001b[0m \u001b[43m    \u001b[49m\u001b[43mn_jobs\u001b[49m\u001b[38;5;241;43m=\u001b[39;49m\u001b[38;5;28;43mself\u001b[39;49m\u001b[38;5;241;43m.\u001b[39;49m\u001b[43mn_jobs\u001b[49m\u001b[43m,\u001b[49m\n\u001b[0;32m    491\u001b[0m \u001b[43m    \u001b[49m\u001b[43mverbose\u001b[49m\u001b[38;5;241;43m=\u001b[39;49m\u001b[38;5;28;43mself\u001b[39;49m\u001b[38;5;241;43m.\u001b[39;49m\u001b[43mverbose\u001b[49m\u001b[43m,\u001b[49m\n\u001b[0;32m    492\u001b[0m \u001b[43m    \u001b[49m\u001b[43mprefer\u001b[49m\u001b[38;5;241;43m=\u001b[39;49m\u001b[38;5;124;43m\"\u001b[39;49m\u001b[38;5;124;43mthreads\u001b[39;49m\u001b[38;5;124;43m\"\u001b[39;49m\u001b[43m,\u001b[49m\n\u001b[0;32m    493\u001b[0m \u001b[43m\u001b[49m\u001b[43m)\u001b[49m\u001b[43m(\u001b[49m\n\u001b[0;32m    494\u001b[0m \u001b[43m    \u001b[49m\u001b[43mdelayed\u001b[49m\u001b[43m(\u001b[49m\u001b[43m_parallel_build_trees\u001b[49m\u001b[43m)\u001b[49m\u001b[43m(\u001b[49m\n\u001b[0;32m    495\u001b[0m \u001b[43m        \u001b[49m\u001b[43mt\u001b[49m\u001b[43m,\u001b[49m\n\u001b[0;32m    496\u001b[0m \u001b[43m        \u001b[49m\u001b[38;5;28;43mself\u001b[39;49m\u001b[38;5;241;43m.\u001b[39;49m\u001b[43mbootstrap\u001b[49m\u001b[43m,\u001b[49m\n\u001b[0;32m    497\u001b[0m \u001b[43m        \u001b[49m\u001b[43mX\u001b[49m\u001b[43m,\u001b[49m\n\u001b[0;32m    498\u001b[0m \u001b[43m        \u001b[49m\u001b[43my\u001b[49m\u001b[43m,\u001b[49m\n\u001b[0;32m    499\u001b[0m \u001b[43m        \u001b[49m\u001b[43msample_weight\u001b[49m\u001b[43m,\u001b[49m\n\u001b[0;32m    500\u001b[0m \u001b[43m        \u001b[49m\u001b[43mi\u001b[49m\u001b[43m,\u001b[49m\n\u001b[0;32m    501\u001b[0m \u001b[43m        \u001b[49m\u001b[38;5;28;43mlen\u001b[39;49m\u001b[43m(\u001b[49m\u001b[43mtrees\u001b[49m\u001b[43m)\u001b[49m\u001b[43m,\u001b[49m\n\u001b[0;32m    502\u001b[0m \u001b[43m        \u001b[49m\u001b[43mverbose\u001b[49m\u001b[38;5;241;43m=\u001b[39;49m\u001b[38;5;28;43mself\u001b[39;49m\u001b[38;5;241;43m.\u001b[39;49m\u001b[43mverbose\u001b[49m\u001b[43m,\u001b[49m\n\u001b[0;32m    503\u001b[0m \u001b[43m        \u001b[49m\u001b[43mclass_weight\u001b[49m\u001b[38;5;241;43m=\u001b[39;49m\u001b[38;5;28;43mself\u001b[39;49m\u001b[38;5;241;43m.\u001b[39;49m\u001b[43mclass_weight\u001b[49m\u001b[43m,\u001b[49m\n\u001b[0;32m    504\u001b[0m \u001b[43m        \u001b[49m\u001b[43mn_samples_bootstrap\u001b[49m\u001b[38;5;241;43m=\u001b[39;49m\u001b[43mn_samples_bootstrap\u001b[49m\u001b[43m,\u001b[49m\n\u001b[0;32m    505\u001b[0m \u001b[43m        \u001b[49m\u001b[43mmissing_values_in_feature_mask\u001b[49m\u001b[38;5;241;43m=\u001b[39;49m\u001b[43mmissing_values_in_feature_mask\u001b[49m\u001b[43m,\u001b[49m\n\u001b[0;32m    506\u001b[0m \u001b[43m    \u001b[49m\u001b[43m)\u001b[49m\n\u001b[0;32m    507\u001b[0m \u001b[43m    \u001b[49m\u001b[38;5;28;43;01mfor\u001b[39;49;00m\u001b[43m \u001b[49m\u001b[43mi\u001b[49m\u001b[43m,\u001b[49m\u001b[43m \u001b[49m\u001b[43mt\u001b[49m\u001b[43m \u001b[49m\u001b[38;5;129;43;01min\u001b[39;49;00m\u001b[43m \u001b[49m\u001b[38;5;28;43menumerate\u001b[39;49m\u001b[43m(\u001b[49m\u001b[43mtrees\u001b[49m\u001b[43m)\u001b[49m\n\u001b[0;32m    508\u001b[0m \u001b[43m\u001b[49m\u001b[43m)\u001b[49m\n\u001b[0;32m    510\u001b[0m \u001b[38;5;66;03m# Collect newly grown trees\u001b[39;00m\n\u001b[0;32m    511\u001b[0m \u001b[38;5;28mself\u001b[39m\u001b[38;5;241m.\u001b[39mestimators_\u001b[38;5;241m.\u001b[39mextend(trees)\n",
      "File \u001b[1;32mc:\\Users\\elote\\miniconda3\\envs\\datasciml\\Lib\\site-packages\\sklearn\\utils\\parallel.py:74\u001b[0m, in \u001b[0;36mParallel.__call__\u001b[1;34m(self, iterable)\u001b[0m\n\u001b[0;32m     69\u001b[0m config \u001b[38;5;241m=\u001b[39m get_config()\n\u001b[0;32m     70\u001b[0m iterable_with_config \u001b[38;5;241m=\u001b[39m (\n\u001b[0;32m     71\u001b[0m     (_with_config(delayed_func, config), args, kwargs)\n\u001b[0;32m     72\u001b[0m     \u001b[38;5;28;01mfor\u001b[39;00m delayed_func, args, kwargs \u001b[38;5;129;01min\u001b[39;00m iterable\n\u001b[0;32m     73\u001b[0m )\n\u001b[1;32m---> 74\u001b[0m \u001b[38;5;28;01mreturn\u001b[39;00m \u001b[38;5;28;43msuper\u001b[39;49m\u001b[43m(\u001b[49m\u001b[43m)\u001b[49m\u001b[38;5;241;43m.\u001b[39;49m\u001b[38;5;21;43m__call__\u001b[39;49m\u001b[43m(\u001b[49m\u001b[43miterable_with_config\u001b[49m\u001b[43m)\u001b[49m\n",
      "File \u001b[1;32mc:\\Users\\elote\\miniconda3\\envs\\datasciml\\Lib\\site-packages\\joblib\\parallel.py:2007\u001b[0m, in \u001b[0;36mParallel.__call__\u001b[1;34m(self, iterable)\u001b[0m\n\u001b[0;32m   2001\u001b[0m \u001b[38;5;66;03m# The first item from the output is blank, but it makes the interpreter\u001b[39;00m\n\u001b[0;32m   2002\u001b[0m \u001b[38;5;66;03m# progress until it enters the Try/Except block of the generator and\u001b[39;00m\n\u001b[0;32m   2003\u001b[0m \u001b[38;5;66;03m# reaches the first `yield` statement. This starts the asynchronous\u001b[39;00m\n\u001b[0;32m   2004\u001b[0m \u001b[38;5;66;03m# dispatch of the tasks to the workers.\u001b[39;00m\n\u001b[0;32m   2005\u001b[0m \u001b[38;5;28mnext\u001b[39m(output)\n\u001b[1;32m-> 2007\u001b[0m \u001b[38;5;28;01mreturn\u001b[39;00m output \u001b[38;5;28;01mif\u001b[39;00m \u001b[38;5;28mself\u001b[39m\u001b[38;5;241m.\u001b[39mreturn_generator \u001b[38;5;28;01melse\u001b[39;00m \u001b[38;5;28;43mlist\u001b[39;49m\u001b[43m(\u001b[49m\u001b[43moutput\u001b[49m\u001b[43m)\u001b[49m\n",
      "File \u001b[1;32mc:\\Users\\elote\\miniconda3\\envs\\datasciml\\Lib\\site-packages\\joblib\\parallel.py:1650\u001b[0m, in \u001b[0;36mParallel._get_outputs\u001b[1;34m(self, iterator, pre_dispatch)\u001b[0m\n\u001b[0;32m   1647\u001b[0m     \u001b[38;5;28;01myield\u001b[39;00m\n\u001b[0;32m   1649\u001b[0m     \u001b[38;5;28;01mwith\u001b[39;00m \u001b[38;5;28mself\u001b[39m\u001b[38;5;241m.\u001b[39m_backend\u001b[38;5;241m.\u001b[39mretrieval_context():\n\u001b[1;32m-> 1650\u001b[0m         \u001b[38;5;28;01myield from\u001b[39;00m \u001b[38;5;28mself\u001b[39m\u001b[38;5;241m.\u001b[39m_retrieve()\n\u001b[0;32m   1652\u001b[0m \u001b[38;5;28;01mexcept\u001b[39;00m \u001b[38;5;167;01mGeneratorExit\u001b[39;00m:\n\u001b[0;32m   1653\u001b[0m     \u001b[38;5;66;03m# The generator has been garbage collected before being fully\u001b[39;00m\n\u001b[0;32m   1654\u001b[0m     \u001b[38;5;66;03m# consumed. This aborts the remaining tasks if possible and warn\u001b[39;00m\n\u001b[0;32m   1655\u001b[0m     \u001b[38;5;66;03m# the user if necessary.\u001b[39;00m\n\u001b[0;32m   1656\u001b[0m     \u001b[38;5;28mself\u001b[39m\u001b[38;5;241m.\u001b[39m_exception \u001b[38;5;241m=\u001b[39m \u001b[38;5;28;01mTrue\u001b[39;00m\n",
      "File \u001b[1;32mc:\\Users\\elote\\miniconda3\\envs\\datasciml\\Lib\\site-packages\\joblib\\parallel.py:1762\u001b[0m, in \u001b[0;36mParallel._retrieve\u001b[1;34m(self)\u001b[0m\n\u001b[0;32m   1757\u001b[0m \u001b[38;5;66;03m# If the next job is not ready for retrieval yet, we just wait for\u001b[39;00m\n\u001b[0;32m   1758\u001b[0m \u001b[38;5;66;03m# async callbacks to progress.\u001b[39;00m\n\u001b[0;32m   1759\u001b[0m \u001b[38;5;28;01mif\u001b[39;00m ((\u001b[38;5;28mlen\u001b[39m(\u001b[38;5;28mself\u001b[39m\u001b[38;5;241m.\u001b[39m_jobs) \u001b[38;5;241m==\u001b[39m \u001b[38;5;241m0\u001b[39m) \u001b[38;5;129;01mor\u001b[39;00m\n\u001b[0;32m   1760\u001b[0m     (\u001b[38;5;28mself\u001b[39m\u001b[38;5;241m.\u001b[39m_jobs[\u001b[38;5;241m0\u001b[39m]\u001b[38;5;241m.\u001b[39mget_status(\n\u001b[0;32m   1761\u001b[0m         timeout\u001b[38;5;241m=\u001b[39m\u001b[38;5;28mself\u001b[39m\u001b[38;5;241m.\u001b[39mtimeout) \u001b[38;5;241m==\u001b[39m TASK_PENDING)):\n\u001b[1;32m-> 1762\u001b[0m     \u001b[43mtime\u001b[49m\u001b[38;5;241;43m.\u001b[39;49m\u001b[43msleep\u001b[49m\u001b[43m(\u001b[49m\u001b[38;5;241;43m0.01\u001b[39;49m\u001b[43m)\u001b[49m\n\u001b[0;32m   1763\u001b[0m     \u001b[38;5;28;01mcontinue\u001b[39;00m\n\u001b[0;32m   1765\u001b[0m \u001b[38;5;66;03m# We need to be careful: the job list can be filling up as\u001b[39;00m\n\u001b[0;32m   1766\u001b[0m \u001b[38;5;66;03m# we empty it and Python list are not thread-safe by\u001b[39;00m\n\u001b[0;32m   1767\u001b[0m \u001b[38;5;66;03m# default hence the use of the lock\u001b[39;00m\n",
      "\u001b[1;31mKeyboardInterrupt\u001b[0m: "
     ]
    }
   ],
   "source": [
    "from sklearn.compose import make_column_transformer\n",
    "from sklearn.preprocessing import OneHotEncoder\n",
    "from sklearn.ensemble import RandomForestClassifier\n",
    "from sklearn.pipeline import Pipeline\n",
    "\n",
    "# Define column transformer\n",
    "preprocessor = make_column_transformer(\n",
    "    (OneHotEncoder(handle_unknown='ignore'), enc_feat), \n",
    "    remainder='passthrough',\n",
    "    verbose_feature_names_out=False,\n",
    "    n_jobs=-1\n",
    ")\n",
    "\n",
    "# Define random forest classifier object\n",
    "classifier = RandomForestClassifier(\n",
    "    min_samples_leaf=50,\n",
    "    n_estimators=150,\n",
    "    bootstrap=True,\n",
    "    oob_score=True,\n",
    "    n_jobs=-1,\n",
    "    random_state=seed,\n",
    "    max_features='sqrt'\n",
    ")\n",
    "\n",
    "# Create pipeline\n",
    "pipe = Pipeline([\n",
    "    ('preprocessor', preprocessor),\n",
    "    ('classifier', classifier)\n",
    "])\n",
    "\n",
    "# Fit the pipeline\n",
    "pipe.fit(X_train, y_train)\n",
    "\n",
    "# Generate predictions on the test set\n",
    "y_pred = pipe.predict(X_test)\n"
   ]
  },
  {
   "cell_type": "markdown",
   "metadata": {},
   "source": [
    "## Evaluate the model"
   ]
  },
  {
   "cell_type": "markdown",
   "metadata": {},
   "source": [
    "### Accuracy\n",
    "Accuracy is defined by the sum of true positives and true negatives divided by the total number of predictions. That is, it quantifies how well the model correctly classifies the test samples. The accuracy_score() function will calculate this value for us:"
   ]
  },
  {
   "cell_type": "code",
   "execution_count": 220,
   "metadata": {},
   "outputs": [
    {
     "name": "stdout",
     "output_type": "stream",
     "text": [
      "The accuracy of the model is  85.07864969954048 %\n"
     ]
    }
   ],
   "source": [
    "acc_score = (accuracy_score(y_test, y_pred)) * 100\n",
    "print(\"The accuracy of the model is \", acc_score, \"%\")"
   ]
  },
  {
   "cell_type": "markdown",
   "metadata": {},
   "source": [
    "#### Predict Probabilities and ROC AUC Scores\n",
    "The predict_proba() function allows us to predict the probability of label 1 for our target variable in the train and test dataframes. In turn, these values will be fed into the roc_auc_score() function to plot the Receiver Operating Characteristic (ROC) score and ROC Area Under Curve (ROC AUC) scores from test and train prediction scores:"
   ]
  },
  {
   "cell_type": "code",
   "execution_count": 221,
   "metadata": {},
   "outputs": [],
   "source": [
    "# Predict probabilities\n",
    "prob_train = pipe.predict_proba(X_train)[:,1] \n",
    "probs = pipe.predict_proba(X_test)[:, 1]\n",
    "train_preds = pipe.predict(X_train)"
   ]
  },
  {
   "cell_type": "markdown",
   "metadata": {},
   "source": [
    "ROC AUC is produced by calulating the rate of true positives versus the rate of false positives at any particular threshold (the x-axis). Threshold means the value at which a prediction is interpreted to be true or not (1 or 0). The closer the ROC AUC scores are to 1.0, the more predictive power the model has:"
   ]
  },
  {
   "cell_type": "code",
   "execution_count": 222,
   "metadata": {},
   "outputs": [
    {
     "name": "stdout",
     "output_type": "stream",
     "text": [
      "Train ROC AUC Score:  0.7510952101726052\n",
      "Test ROC AUC  Score:  0.7316990899262972\n"
     ]
    }
   ],
   "source": [
    "# Calculate ROC AUC scores\n",
    "train_roc_auc = roc_auc_score(y_train, prob_train)\n",
    "test_roc_auc = roc_auc_score(y_test, probs)\n",
    "\n",
    "print('Train ROC AUC Score: ', train_roc_auc)\n",
    "print('Test ROC AUC  Score: ', test_roc_auc)"
   ]
  },
  {
   "cell_type": "markdown",
   "metadata": {},
   "source": [
    "Next, we plot the ROC against a baseline curve as a visual aid to compare the mode's performance. As a review, the recall of the model, or sensitivity, is defined as number of true positives divided by the sum of true positives and false negatives. Precision, on the other hand, is defined as the number of true positives divided by the sum of true positives and false positives. These values are fed into the mod_eval() function below to generate the curve.\n",
    "\n",
    "The baseline curve shown in blue represents a random classifier that cannot tell the difference between the two classes of the outcome variable and is shown as reference. We can see that the model is closer to 1.0 than baseline, (about 0.73 for the test data), indicating a modest degree of predictive power: "
   ]
  },
  {
   "cell_type": "code",
   "execution_count": 223,
   "metadata": {},
   "outputs": [
    {
     "name": "stdout",
     "output_type": "stream",
     "text": [
      "Recall Baseline: 0.0 Test: 0.0 Train: 0.0\n",
      "Precision Baseline: 0.0 Test: 0.86 Train: 0.83\n",
      "Roc Baseline: 0.5 Test: 0.73 Train: 0.75\n"
     ]
    },
    {
     "name": "stderr",
     "output_type": "stream",
     "text": [
      "c:\\Users\\elote\\miniconda3\\envs\\datasciml\\Lib\\site-packages\\sklearn\\metrics\\_classification.py:1531: UndefinedMetricWarning: Precision is ill-defined and being set to 0.0 due to no predicted samples. Use `zero_division` parameter to control this behavior.\n",
      "  _warn_prf(average, modifier, f\"{metric.capitalize()} is\", len(result))\n"
     ]
    },
    {
     "data": {
      "image/png": "[encoded data removed]",
      "text/plain": [
       "<Figure size 800x600 with 1 Axes>"
      ]
     },
     "metadata": {},
     "output_type": "display_data"
    }
   ],
   "source": [
    "# plot the ROC AUC\n",
    "\n",
    "def mod_eval(y_pred, probs, train_preds, prob_train):\n",
    "    \"\"\"\n",
    "    Evaluates the model by printing recall, precision, and ROC AUC scores for both test and train data.\n",
    "    Also plots the ROC curves.\n",
    "    \"\"\"\n",
    "    # Calculate baseline based on the majority class\n",
    "    baseline_class = y_test.mode()[0]\n",
    "    baseline_preds = [baseline_class] * len(y_test)\n",
    "    baseline = {}\n",
    "    baseline['recall'] = recall_score(y_test, baseline_preds)\n",
    "    baseline['precision'] = precision_score(y_test, baseline_preds)\n",
    "    baseline['roc'] = 0.5  # Baseline ROC for random classifier\n",
    "    \n",
    "    # Calculate metrics for the model\n",
    "    results = {}\n",
    "    results['recall'] = recall_score(y_test, y_pred)\n",
    "    results['precision'] = precision_score(y_test, y_pred)\n",
    "    results['roc'] = roc_auc_score(y_test, probs)\n",
    "    \n",
    "    # Calculate metrics for the training data\n",
    "    train_results = {}\n",
    "    train_results['recall'] = recall_score(y_train, train_preds)\n",
    "    train_results['precision'] = precision_score(y_train, train_preds)\n",
    "    train_results['roc'] = roc_auc_score(y_train, prob_train)\n",
    "    \n",
    "    # Print the metrics\n",
    "    for metric in ['recall', 'precision', 'roc']:  \n",
    "        print(f'{metric.capitalize()} Baseline: {round(baseline[metric], 2)} Test: {round(results[metric], 2)} Train: {round(train_results[metric], 2)}')\n",
    "     \n",
    "    # Calculate false positive rates and true positive rates for ROC curves\n",
    "    base_fpr, base_tpr, _ = roc_curve(y_test, [baseline_class] * len(y_test))\n",
    "    model_fpr, model_tpr, _ = roc_curve(y_test, probs)\n",
    "    \n",
    "    # Plot the ROC curves\n",
    "    plt.figure(figsize=(8, 6))\n",
    "    plt.rcParams['font.size'] = 16\n",
    "    \n",
    "    plt.plot(base_fpr, base_tpr, 'b', label='Baseline')\n",
    "    plt.plot(model_fpr, model_tpr, 'r', label='Model')\n",
    "    plt.legend()\n",
    "    plt.xlabel('False Positive Rate')\n",
    "    plt.ylabel('True Positive Rate')\n",
    "    plt.title('ROC Curves')\n",
    "    plt.show()\n",
    "\n",
    "mod_eval(y_pred, probs, train_preds, prob_train)"
   ]
  },
  {
   "cell_type": "markdown",
   "metadata": {},
   "source": [
    "### Confusion Matrix\n",
    "A Confusion Matrix provides us with another metric to evaluate the quality of the output of our random forest classifier and makes use of some of the values we have already mentioned and calculated above. Diagonal elements represent correctly classified predictions (true negatives and positives) while the others are incorrecly classified (false negatives and positives). Here we can see a numerical representation of where the loss of performance of our model lies: a high number of false negatives (1558) and few true negatives (1):"
   ]
  },
  {
   "cell_type": "code",
   "execution_count": 224,
   "metadata": {},
   "outputs": [
    {
     "data": {
      "image/png": "[encoded data removed]",
      "text/plain": [
       "<Figure size 1000x800 with 2 Axes>"
      ]
     },
     "metadata": {},
     "output_type": "display_data"
    }
   ],
   "source": [
    "import itertools\n",
    "\n",
    "def plot_confusion_matrix(cm, classes, normalize=False, title='Confusion matrix', cmap=plt.cm.Blues):\n",
    "    \"\"\"\n",
    "    Plots the confusion matrix.\n",
    "    \n",
    "    Parameters:\n",
    "    - cm: Confusion matrix\n",
    "    - classes: List of class names\n",
    "    - normalize: Whether to normalize the confusion matrix\n",
    "    - title: Title of the plot\n",
    "    - cmap: Color map\n",
    "    \"\"\"\n",
    "    # If normalize is True, normalize the confusion matrix\n",
    "    if normalize:\n",
    "        cm = cm.astype('float') / cm.sum(axis=1)[:, np.newaxis]\n",
    "\n",
    "    # Create the plot\n",
    "    plt.figure(figsize=(10, 8))\n",
    "    plt.imshow(cm, interpolation='nearest', cmap=cmap)\n",
    "    plt.title(title, size=24, pad=20)\n",
    "    plt.colorbar()\n",
    "\n",
    "    # Add tick marks\n",
    "    tick_marks = np.arange(len(classes))\n",
    "    plt.xticks(tick_marks, classes, rotation=45, ha='right')\n",
    "    plt.yticks(tick_marks, classes)\n",
    "\n",
    "    # Add text annotations to each cell\n",
    "    fmt = '.2f' if normalize else 'd'\n",
    "    thresh = cm.max() / 2.\n",
    "    for i, j in itertools.product(range(cm.shape[0]), range(cm.shape[1])):\n",
    "        plt.text(j, i, format(cm[i, j], fmt),\n",
    "                horizontalalignment=\"center\",\n",
    "                color=\"white\" if cm[i, j] > thresh else \"black\",\n",
    "                size=16)\n",
    "\n",
    "    # Improve layout\n",
    "    plt.tight_layout()\n",
    "    plt.ylabel('True label', size=18)\n",
    "    plt.xlabel('Predicted label', size=18)\n",
    "    \n",
    "    return plt\n",
    "\n",
    "# Generate and plot the confusion matrix\n",
    "cm = confusion_matrix(y_test, y_pred)\n",
    "plot_confusion_matrix(\n",
    "    cm=cm,\n",
    "    classes=['0 - Did not receive MH treatment', '1 - Received MH treatment'],\n",
    "    title='MH Treatment Confusion Matrix'\n",
    ")\n",
    "plt.show()"
   ]
  },
  {
   "cell_type": "markdown",
   "metadata": {},
   "source": [
    "### Feature Importance\n",
    "Using the results of the classification model, we can assess the importance of the different features in the data set. The number of features as calculated here are more numerous than the number of predictor variables that were selected at the start of the analysis. This is due to the pipe function above which properly transformed the categorical data for each level as they were being inputed into the model algorithm. "
   ]
  },
  {
   "cell_type": "markdown",
   "metadata": {},
   "source": [
    "We can count the number of features and visualize the relative importance of each feature using the import_feat_ module of the random forest classifier:"
   ]
  },
  {
   "cell_type": "markdown",
   "metadata": {},
   "source": [
    "The enc_bind function will encode and bind our expanded training data set into a dataframe for use in calculating the relative importance of each feature level:"
   ]
  },
  {
   "cell_type": "markdown",
   "metadata": {},
   "source": [
    "We can now create and display an ordered rank of relative importance for each feature level numerically and graphically:"
   ]
  },
  {
   "cell_type": "code",
   "execution_count": 225,
   "metadata": {},
   "outputs": [
    {
     "name": "stdout",
     "output_type": "stream",
     "text": [
      "dict_keys(['preprocessor', 'classifier'])\n"
     ]
    }
   ],
   "source": [
    "print(pipe.named_steps.keys())"
   ]
  },
  {
   "cell_type": "code",
   "execution_count": 226,
   "metadata": {},
   "outputs": [
    {
     "name": "stdout",
     "output_type": "stream",
     "text": [
      "Feature: newrace2_1                          Importance: 0.13557113663147974\n",
      "Feature: irsex_1                             Importance: 0.12058847407381934\n",
      "Feature: irsex_2                             Importance: 0.10256499360419738\n",
      "Feature: illyr_0                             Importance: 0.059362280652653816\n",
      "Feature: illyr_1                             Importance: 0.05932349121834815\n",
      "Feature: sexident_1                          Importance: 0.0506219045030217\n",
      "Feature: health2_1.0                         Importance: 0.0380069609532688\n",
      "Feature: newrace2_2                          Importance: 0.03550741733586421\n",
      "Feature: sexident_3                          Importance: 0.031927108753554714\n",
      "Feature: newrace2_7                          Importance: 0.02772990015870627\n",
      "Feature: eduhighcat_4                        Importance: 0.02699351768373576\n",
      "Feature: health2_4.0                         Importance: 0.023719758279416005\n",
      "Feature: health2_3.0                         Importance: 0.020705881756690404\n",
      "Feature: eduhighcat_2                        Importance: 0.019809880520666248\n",
      "Feature: health2_2.0                         Importance: 0.015199244058186883\n",
      "Feature: irwrkstat_1                         Importance: 0.01239324396189666\n",
      "Feature: eduhighcat_3                        Importance: 0.011315304457798405\n",
      "Feature: catag3_4                            Importance: 0.011127172773745054\n",
      "Feature: snrlgimp_1                          Importance: 0.010956112883843534\n",
      "Feature: irwrkstat_2                         Importance: 0.01057895682684181\n",
      "Feature: catag3_2                            Importance: 0.010383571343411559\n",
      "Feature: snrlgsvc_1                          Importance: 0.010174644488730284\n",
      "Feature: newrace2_5                          Importance: 0.0092116984169243\n",
      "Feature: income_4                            Importance: 0.008462262891427215\n",
      "Feature: eduhighcat_1                        Importance: 0.008382996548190965\n",
      "Feature: bngdrkmon_0                         Importance: 0.00784363294416709\n",
      "Feature: snrlgimp_3                          Importance: 0.007685299846381911\n",
      "Feature: bngdrkmon_1                         Importance: 0.007304486853950309\n",
      "Feature: poverty3_3.0                        Importance: 0.007276648376018257\n",
      "Feature: income_2                            Importance: 0.006676714244645674\n",
      "Feature: snrlgimp_4                          Importance: 0.006440728363413696\n",
      "Feature: caidchip_2                          Importance: 0.006164469059739331\n",
      "Feature: caidchip_1                          Importance: 0.006140503861666225\n",
      "Feature: catag3_3                            Importance: 0.005644587561045137\n",
      "Feature: catag3_5                            Importance: 0.004578045644510659\n",
      "Feature: poverty3_2.0                        Importance: 0.004550843201925359\n",
      "Feature: sexident_2                          Importance: 0.004285491656370394\n",
      "Feature: snrlgimp_2                          Importance: 0.004161505186260753\n",
      "Feature: snrlgsvc_2                          Importance: 0.004154988545502646\n",
      "Feature: income_3                            Importance: 0.004068153659009091\n",
      "Feature: snrlgsvc_4                          Importance: 0.0034891749810194712\n",
      "Feature: snrlgsvc_6                          Importance: 0.0034280542972977067\n",
      "Feature: snrlgsvc_5                          Importance: 0.0033809954840046522\n",
      "Feature: income_1                            Importance: 0.003293480775758361\n",
      "Feature: poverty3_1.0                        Importance: 0.003218525403414884\n",
      "Feature: newrace2_6                          Importance: 0.0032122422694476267\n",
      "Feature: champus_2                           Importance: 0.0029119565940345904\n",
      "Feature: champus_1                           Importance: 0.00283034185426006\n",
      "Feature: snrlgsvc_3                          Importance: 0.0024575973718353288\n",
      "Feature: hvydrkmon_1                         Importance: 0.0023284469109841658\n",
      "Feature: hvydrkmon_0                         Importance: 0.002148734378420358\n",
      "Feature: irwrkstat_3                         Importance: 0.001721324005364128\n",
      "Feature: wrkdpstyr_99                        Importance: 0.0015335310489145812\n",
      "Feature: medicare_1                          Importance: 0.0013928664974561312\n",
      "Feature: medicare_2                          Importance: 0.0012507901839092072\n",
      "Feature: wrkdpstyr_1                         Importance: 0.0009191227362680233\n",
      "Feature: snysell_1                           Importance: 0.0008635409958435379\n",
      "Feature: snysell_5                           Importance: 0.0008009780278981752\n",
      "Feature: wrkdpstyr_2                         Importance: 0.0005912248013839988\n",
      "Feature: newrace2_3                          Importance: 0.00043189076393680773\n",
      "Feature: newrace2_4                          Importance: 0.00010484035181772208\n",
      "Feature: snysell_2                           Importance: 5.31617207216009e-05\n",
      "Feature: snysell_3                           Importance: 4.316476498326873e-05\n",
      "Feature: snysell_4                           Importance: 0.0\n",
      "Feature: wrkdpstyr_85                        Importance: 0.0\n",
      "Feature: wrkdpstyr_94                        Importance: 0.0\n",
      "Feature: wrkdpstyr_97                        Importance: 0.0\n"
     ]
    },
    {
     "data": {
      "image/png": "[encoded data removed]",
      "text/plain": [
       "<Figure size 1000x1400 with 1 Axes>"
      ]
     },
     "metadata": {},
     "output_type": "display_data"
    }
   ],
   "source": [
    "# Extract the OneHotEncoder using the correct name\n",
    "ohe = pipe.named_steps['preprocessor'].transformers_[0][1]\n",
    "\n",
    "# Get the encoded feature names\n",
    "encoded_features = ohe.get_feature_names_out(enc_feat)\n",
    "\n",
    "# Identify passthrough features by excluding encoded features from all features\n",
    "passthrough_features = [col for col in X_train.columns if col not in enc_feat]\n",
    "\n",
    "# Combine encoded and passthrough feature names\n",
    "all_feature_names = list(encoded_features) + passthrough_features\n",
    "\n",
    "# Extract feature importances from the classifier within the pipeline\n",
    "classifier = pipe.named_steps['classifier']\n",
    "import_feat = list(zip(all_feature_names, classifier.feature_importances_))\n",
    "\n",
    "# Sort the feature importances by most important first\n",
    "import_feat_ranked = sorted(import_feat, key=lambda x: x[1], reverse=True)\n",
    "\n",
    "# Print out the features and their importances\n",
    "for feature, importance in import_feat_ranked:\n",
    "    print(f'Feature: {feature:35} Importance: {importance}')\n",
    "\n",
    "# Plot of Top 15 Feature Importance\n",
    "top_15 = [i[0] for i in import_feat_ranked[:15]]\n",
    "x_axis = [i[1] for i in import_feat_ranked[:15]]\n",
    "\n",
    "plt.figure(figsize=(10, 14))\n",
    "plt.barh(top_15, x_axis)   # horizontal barplot\n",
    "plt.title('Top 15 Random Forest Important Features')\n",
    "plt.xlabel('Importance', fontdict={'fontsize': 16})\n",
    "plt.show()\n"
   ]
  },
  {
   "cell_type": "markdown",
   "metadata": {},
   "source": [
    "According to the results, the 10 most important features which contribute best to the predictive power of the model are:\n",
    "* NEWRACE2_1: non-hispanic white\n",
    "* irsex_1: Male\n",
    "* irsex_2: Female\n",
    "* sexident_1: Heterosexual\n",
    "* illyr_1: used illicit drugs in the past year\n",
    "* sexident_3: Bisexual\n",
    "* illyr_0: did not use illicit drugs in the past year\n",
    "* HEALTH2_1.0: Excellent health\n",
    "* HEALTH2_4.0: Fair/poor health\n",
    "* eduhighcat_4: College graduates"
   ]
  },
  {
   "cell_type": "markdown",
   "metadata": {},
   "source": [
    "## Conclusion and Next Steps\n",
    "\n",
    "### Feature Selection/Engineering\n",
    "The important features identification process could be taken a step further to rebuild the model using the top 15 features and measure its effect on the accuracy of the new model's performance to compare it to the old one.\n",
    "\n",
    "### Hyperparameter Tuning\n",
    "The next step here would be to run a series of models while setting the parameters for the random forest classifier at random, each time recording the model performance by calculating the ROC AUC and accuracies as above. In addition, hyperparameter tuning helps to mitigate the tradeoff between bias and variance so as to minimize error and maximize goodness-of-fit. "
   ]
  }
 ],
 "metadata": {
  "kernelspec": {
   "display_name": "datasciml",
   "language": "python",
   "name": "python3"
  },
  "language_info": {
   "codemirror_mode": {
    "name": "ipython",
    "version": 3
   },
   "file_extension": ".py",
   "mimetype": "text/x-python",
   "name": "python",
   "nbconvert_exporter": "python",
   "pygments_lexer": "ipython3",
   "version": "3.12.5"
  },
  "orig_nbformat": 4
 },
 "nbformat": 4,
 "nbformat_minor": 2
}
